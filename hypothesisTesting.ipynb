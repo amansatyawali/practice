{
 "metadata": {
  "language_info": {
   "codemirror_mode": {
    "name": "ipython",
    "version": 3
   },
   "file_extension": ".py",
   "mimetype": "text/x-python",
   "name": "python",
   "nbconvert_exporter": "python",
   "pygments_lexer": "ipython3",
   "version": "3.7.10"
  },
  "orig_nbformat": 2,
  "kernelspec": {
   "name": "python3710jvsc74a57bd07175243730c9031ba60f56d772a877afc89cdaf535e418218038fcc676c9afa7",
   "display_name": "Python 3.7.10 64-bit ('base': conda)"
  }
 },
 "nbformat": 4,
 "nbformat_minor": 2,
 "cells": [
  {
   "cell_type": "code",
   "execution_count": 1,
   "metadata": {},
   "outputs": [],
   "source": [
    "def test_hypothesis(pop_mean, pop_sd, sample_mean, sample_size, n_tail = 'two_tail', test_type = 'auto', sample_sd = None) :\n",
    "    from math import sqrt\n",
    "\n",
    "    if n_tail != 'two_tail' and n_tail != 'one_tail' :\n",
    "        raise ValueError('''n_tail can only take 'one_tail' or 'two_tail' as an argument''')\n",
    "    if pop_sd < 0 :\n",
    "        raise ValueError('''standard deviation cannot be less than 0''')\n",
    "    if sample_size <= 0 :\n",
    "        raise ValueError('''sample_size cannot be equal to or less than 0''')\n",
    "    if test_type != 'z' and test_type != 't' and test_type != 'auto' :\n",
    "        raise ValueError('''test_type can only take 't' or 'z' as an argument''')\n",
    "    if sample_sd == None :\n",
    "        sample_sd = pop_sd\n",
    "    else :\n",
    "        if sample_sd < 0 :\n",
    "            raise ValueError('''sample standard deviation cannot be less than 0''')\n",
    "\n",
    "    standard_value_coefficients = {\n",
    "        'z' : {\n",
    "            0.05 : 1.68,\n",
    "            0.025 : 1.96            \n",
    "        },\n",
    "        't' : {\n",
    "            0.05 : 1.697,\n",
    "            0.025 : 2.042\n",
    "        }\n",
    "    }\n",
    "\n",
    "    result = {\n",
    "        'hypothesis_result' : '',\n",
    "        'hypothesis_accepted' : '',\n",
    "        'hypothesis_score' : '',\n",
    "        'required_score' : '',\n",
    "        'point_estimate' : '',\n",
    "        'interval_estimate_min' : '',\n",
    "        'interval_estimate_max' : '',\n",
    "        'margin_of_error' : ''  \n",
    "    }\n",
    "\n",
    "\n",
    "    margin_of_error = standard_value_coefficients['z'][0.025]*sample_sd/sqrt(sample_size)\n",
    "    interval_min = sample_mean - margin_of_error\n",
    "    interval_max = sample_mean + margin_of_error\n",
    "\n",
    "\n",
    "    alpha = 0.05\n",
    "    if n_tail == 'two_tail' :\n",
    "        alpha /= 2\n",
    "\n",
    "    if test_type == 'auto' : \n",
    "        if sample_size > 30 :\n",
    "            test_type = 'z'\n",
    "        else :\n",
    "            test_type = 't'\n",
    "\n",
    "    required_score = standard_value_coefficients[test_type][alpha]\n",
    "    hyp_score = (abs(pop_mean - sample_mean)) / (pop_sd / sqrt(sample_size))\n",
    "    print('Alpha score : ', required_score)\n",
    "    print('Hypothesis score : ', hyp_score)\n",
    "\n",
    "    if hyp_score > required_score :\n",
    "        print('Hypothesis rejected')\n",
    "        result_message = 'Hypothesis rejected'\n",
    "        hyp_accepted = False\n",
    "    else : \n",
    "        print('Hypothesis accepted')\n",
    "        result_message = 'Hypothesis accepted'\n",
    "        hyp_accepted = True\n",
    "\n",
    "\n",
    "\n",
    "\n",
    "    result['hypothesis_result'] = result_message\n",
    "    result['hypothesis_accepted'] = hyp_accepted\n",
    "    result['hypothesis_score'] = hyp_score\n",
    "    result['required_score'] = required_score\n",
    "    result['point_estimate'] = sample_mean\n",
    "    result['margin_of_error'] = margin_of_error\n",
    "    result['interval_estimate_min'] = interval_min\n",
    "    result['interval_estimate_max'] = interval_max\n",
    "\n",
    "    return result"
   ]
  },
  {
   "cell_type": "code",
   "execution_count": 2,
   "metadata": {},
   "outputs": [
    {
     "output_type": "stream",
     "name": "stdout",
     "text": [
      "Alpha score :  1.697\nHypothesis score :  2.285714285714291\nHypothesis rejected\n"
     ]
    },
    {
     "output_type": "execute_result",
     "data": {
      "text/plain": [
       "{'hypothesis_result': 'Hypothesis rejected',\n",
       " 'hypothesis_accepted': False,\n",
       " 'hypothesis_score': 2.285714285714291,\n",
       " 'required_score': 1.697,\n",
       " 'point_estimate': 66.2,\n",
       " 'interval_estimate_min': 65.171,\n",
       " 'interval_estimate_max': 67.229,\n",
       " 'margin_of_error': 1.029}"
      ]
     },
     "metadata": {},
     "execution_count": 2
    }
   ],
   "source": [
    "test_hypothesis(pop_mean = 65, pop_sd = 4.2, sample_mean = 66.2, sample_size = 64, n_tail = 'one_tail', test_type = 't')"
   ]
  },
  {
   "cell_type": "code",
   "execution_count": null,
   "metadata": {},
   "outputs": [],
   "source": []
  }
 ]
}