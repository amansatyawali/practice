{
 "cells": [
  {
   "cell_type": "code",
   "execution_count": 2,
   "id": "77a94243",
   "metadata": {},
   "outputs": [],
   "source": [
    "import torch\n",
    "import torch.nn as nn\n",
    "import torch.nn.functional as F\n",
    "import torchvision.datasets as datasets\n",
    "from torchvision.transforms import ToTensor\n",
    "import torch.optim as optim\n",
    "import matplotlib.pyplot as plt\n",
    "from datetime import datetime"
   ]
  },
  {
   "cell_type": "code",
   "execution_count": 2,
   "id": "8ca0932c",
   "metadata": {},
   "outputs": [],
   "source": [
    "from torch.utils.data import Dataset\n",
    "from torch.utils.data import DataLoader"
   ]
  },
  {
   "cell_type": "code",
   "execution_count": 3,
   "id": "a906ad0b",
   "metadata": {},
   "outputs": [
    {
     "name": "stderr",
     "output_type": "stream",
     "text": [
      "/home/aman.satyawali/anaconda3/lib/python3.7/site-packages/torchvision/datasets/mnist.py:498: UserWarning: The given NumPy array is not writeable, and PyTorch does not support non-writeable tensors. This means you can write to the underlying (supposedly non-writeable) NumPy array using the tensor. You may want to copy the array to protect its data or make it writeable before converting it to a tensor. This type of warning will be suppressed for the rest of this program. (Triggered internally at  ../torch/csrc/utils/tensor_numpy.cpp:180.)\n",
      "  return torch.from_numpy(parsed.astype(m[2], copy=False)).view(*s)\n"
     ]
    }
   ],
   "source": [
    "mnist_trainset = datasets.MNIST(root='./data', train=True, download=True, transform=ToTensor())\n",
    "mnist_testset = datasets.MNIST(root='./data', train=False, download=True, transform=ToTensor())"
   ]
  },
  {
   "cell_type": "code",
   "execution_count": 4,
   "id": "2d4f2dc7",
   "metadata": {},
   "outputs": [],
   "source": [
    "batchSize = 16\n",
    "trainLoader = DataLoader(dataset=mnist_trainset, batch_size=batchSize, shuffle=True)\n",
    "testLoader = DataLoader(dataset=mnist_testset, batch_size=batchSize, shuffle=True)"
   ]
  },
  {
   "cell_type": "code",
   "execution_count": 5,
   "id": "c28d2f6a",
   "metadata": {},
   "outputs": [
    {
     "name": "stdout",
     "output_type": "stream",
     "text": [
      "60000\n",
      "10000\n"
     ]
    }
   ],
   "source": [
    "print(len(mnist_trainset))\n",
    "print(len(mnist_testset))"
   ]
  },
  {
   "cell_type": "code",
   "execution_count": 14,
   "id": "ef8b2fb1",
   "metadata": {},
   "outputs": [],
   "source": [
    "class Net(nn.Module):\n",
    "\n",
    "    def __init__(self):\n",
    "        super(Net, self).__init__()\n",
    "        # 1 input image channel, 6 output channels, 5x5 square convolution\n",
    "        # kernel\n",
    "        self.conv1 = nn.Conv2d(1, 12, 5, stride=1)\n",
    "        self.conv2 = nn.Conv2d(12, 12, 5, stride=1, padding = 3)\n",
    "        # an affine operation: y = Wx + b\n",
    "        self.fc1 = nn.Linear(588, 200)  # 5*5 from image dimension\n",
    "        self.fc2 = nn.Linear(200, 100)\n",
    "        self.fc3 = nn.Linear(100, 10)\n",
    "        \n",
    "    def forward(self, x):\n",
    "        # Max pooling over a (2, 2) window\n",
    "        x = F.max_pool2d(F.relu(self.conv1(x)), (2, 2))\n",
    "        # If the size is a square, you can specify with a single number\n",
    "        x = F.max_pool2d(F.relu(self.conv2(x)), 2)\n",
    "        x = torch.flatten(x, 1) # flatten all dimensions except the batch dimension\n",
    "        x = F.relu(self.fc1(x))\n",
    "        x = F.relu(self.fc2(x))\n",
    "        x = self.fc3(x)\n",
    "        return x\n",
    "    \n",
    "    def predict(self, x):\n",
    "        # Max pooling over a (2, 2) window\n",
    "        x = F.max_pool2d(F.relu(self.conv1(x)), (2, 2))\n",
    "        # If the size is a square, you can specify with a single number\n",
    "        x = F.max_pool2d(F.relu(self.conv2(x)), 2)\n",
    "        x = torch.flatten(x, 1) # flatten all dimensions except the batch dimension\n",
    "        x = F.relu(self.fc1(x))\n",
    "        x = F.relu(self.fc2(x))\n",
    "        x = self.fc3(x)\n",
    "        ans = torch.empty(x.shape[0])\n",
    "        for index in range(len(ans)) : \n",
    "            ans[index] = torch.argmax(x[index])\n",
    "        return ans\n",
    "    \n",
    "    def test(self, x):\n",
    "        # Max pooling over a (2, 2) window\n",
    "        print('Shape of input : ', x.shape)\n",
    "        x = self.conv1(x)\n",
    "        print('Shape after first convolution : ', x.shape)\n",
    "        x = F.relu(x)\n",
    "        print('Shape after relu : ', x.shape)\n",
    "        x = F.max_pool2d(x, (2, 2))\n",
    "        print('Shape after first pooling : ', x.shape)\n",
    "        # If the size is a square, you can specify with a single number\n",
    "        x = self.conv2(x)\n",
    "        print('Shape after second convolution : ', x.shape)\n",
    "        x = F.relu(x)\n",
    "        print('Shape after second relu : ', x.shape)\n",
    "        x = F.max_pool2d(x, 2)\n",
    "        print('Shape after second pooling : ', x.shape)\n",
    "        x = torch.flatten(x, 1) # flatten all dimensions except the batch dimension\n",
    "        print('Shape after flattening : ', x.shape)\n",
    "        x = F.relu(self.fc1(x))\n",
    "        x = F.relu(self.fc2(x))\n",
    "        x = self.fc3(x)\n",
    "        ans = torch.empty(x.shape[0])\n",
    "        for index in range(len(ans)) : \n",
    "            ans[index] = torch.argmax(x[index])\n",
    "        return ans"
   ]
  },
  {
   "cell_type": "code",
   "execution_count": 15,
   "id": "5837bfb4",
   "metadata": {},
   "outputs": [],
   "source": [
    "model = Net()"
   ]
  },
  {
   "cell_type": "code",
   "execution_count": 16,
   "id": "3fbdd5ac",
   "metadata": {},
   "outputs": [
    {
     "name": "stdout",
     "output_type": "stream",
     "text": [
      "Shape of input :  torch.Size([1, 1, 28, 28])\n",
      "Shape after first convolution :  torch.Size([1, 12, 24, 24])\n",
      "Shape after relu :  torch.Size([1, 12, 24, 24])\n",
      "Shape after first pooling :  torch.Size([1, 12, 12, 12])\n",
      "Shape after second convolution :  torch.Size([1, 12, 14, 14])\n",
      "Shape after second relu :  torch.Size([1, 12, 14, 14])\n",
      "Shape after second pooling :  torch.Size([1, 12, 7, 7])\n",
      "Shape after flattening :  torch.Size([1, 588])\n"
     ]
    },
    {
     "data": {
      "text/plain": [
       "tensor([9.])"
      ]
     },
     "execution_count": 16,
     "metadata": {},
     "output_type": "execute_result"
    }
   ],
   "source": [
    "index = 1\n",
    "\n",
    "\n",
    "randomDataPoint = mnist_testset.__getitem__(index)[0]\n",
    "\n",
    "model.test(randomDataPoint.reshape(1, 1, 28, 28))"
   ]
  },
  {
   "cell_type": "code",
   "execution_count": 17,
   "id": "403f31e8",
   "metadata": {},
   "outputs": [],
   "source": [
    "def makeTrainStep(model, optimizer, lossFn) :\n",
    "    \n",
    "    def trainStep (xTrain, yTrain) :\n",
    "        model.train()\n",
    "        yPred = model(xTrain)\n",
    "        loss = lossFn(yPred, yTrain)\n",
    "        loss.backward()\n",
    "        \n",
    "        optimizer.step()\n",
    "        optimizer.zero_grad()\n",
    "        return loss.detach()\n",
    "        \n",
    "    return trainStep        "
   ]
  },
  {
   "cell_type": "markdown",
   "id": "f52e8173",
   "metadata": {},
   "source": [
    "<h3>Learning rate = 0.01</h3>"
   ]
  },
  {
   "cell_type": "code",
   "execution_count": null,
   "id": "6a5aa0d1",
   "metadata": {},
   "outputs": [],
   "source": [
    "losses = []"
   ]
  },
  {
   "cell_type": "code",
   "execution_count": 69,
   "id": "54a3cb2d",
   "metadata": {},
   "outputs": [
    {
     "name": "stdout",
     "output_type": "stream",
     "text": [
      "Pass :  1  of  100\n",
      "Pass :  2  of  100\n",
      "Pass :  3  of  100\n",
      "Pass :  4  of  100\n",
      "Pass :  5  of  100\n",
      "Pass :  6  of  100\n",
      "Pass :  7  of  100\n",
      "Pass :  8  of  100\n",
      "Pass :  9  of  100\n",
      "Pass :  10  of  100\n",
      "Pass :  11  of  100\n",
      "Pass :  12  of  100\n",
      "Pass :  13  of  100\n",
      "Pass :  14  of  100\n",
      "Pass :  15  of  100\n",
      "Pass :  16  of  100\n",
      "Pass :  17  of  100\n",
      "Pass :  18  of  100\n",
      "Pass :  19  of  100\n",
      "Pass :  20  of  100\n",
      "Pass :  21  of  100\n",
      "Pass :  22  of  100\n",
      "Pass :  23  of  100\n",
      "Pass :  24  of  100\n",
      "Pass :  25  of  100\n",
      "Pass :  26  of  100\n",
      "Pass :  27  of  100\n",
      "Pass :  28  of  100\n",
      "Pass :  29  of  100\n",
      "Pass :  30  of  100\n",
      "Pass :  31  of  100\n",
      "Pass :  32  of  100\n",
      "Pass :  33  of  100\n",
      "Pass :  34  of  100\n",
      "Pass :  35  of  100\n",
      "Pass :  36  of  100\n",
      "Pass :  37  of  100\n",
      "Pass :  38  of  100\n",
      "Pass :  39  of  100\n",
      "Pass :  40  of  100\n",
      "Pass :  41  of  100\n",
      "Pass :  42  of  100\n",
      "Pass :  43  of  100\n",
      "Pass :  44  of  100\n",
      "Pass :  45  of  100\n",
      "Pass :  46  of  100\n",
      "Pass :  47  of  100\n",
      "Pass :  48  of  100\n",
      "Pass :  49  of  100\n",
      "Pass :  50  of  100\n",
      "Pass :  51  of  100\n",
      "Pass :  52  of  100\n",
      "Pass :  53  of  100\n",
      "Pass :  54  of  100\n",
      "Pass :  55  of  100\n",
      "Pass :  56  of  100\n",
      "Pass :  57  of  100\n",
      "Pass :  58  of  100\n",
      "Pass :  59  of  100\n",
      "Pass :  60  of  100\n",
      "Pass :  61  of  100\n",
      "Pass :  62  of  100\n",
      "Pass :  63  of  100\n",
      "Pass :  64  of  100\n",
      "Pass :  65  of  100\n",
      "Pass :  66  of  100\n",
      "Pass :  67  of  100\n",
      "Pass :  68  of  100\n",
      "Pass :  69  of  100\n",
      "Pass :  70  of  100\n",
      "Pass :  71  of  100\n",
      "Pass :  72  of  100\n",
      "Pass :  73  of  100\n",
      "Pass :  74  of  100\n",
      "Pass :  75  of  100\n",
      "Pass :  76  of  100\n",
      "Pass :  77  of  100\n",
      "Pass :  78  of  100\n",
      "Pass :  79  of  100\n",
      "Pass :  80  of  100\n",
      "Pass :  81  of  100\n",
      "Pass :  82  of  100\n",
      "Pass :  83  of  100\n",
      "Pass :  84  of  100\n",
      "Pass :  85  of  100\n",
      "Pass :  86  of  100\n",
      "Pass :  87  of  100\n",
      "Pass :  88  of  100\n",
      "Pass :  89  of  100\n",
      "Pass :  90  of  100\n",
      "Pass :  91  of  100\n",
      "Pass :  92  of  100\n",
      "Pass :  93  of  100\n",
      "Pass :  94  of  100\n",
      "Pass :  95  of  100\n",
      "Pass :  96  of  100\n",
      "Pass :  97  of  100\n",
      "Pass :  98  of  100\n",
      "Pass :  99  of  100\n",
      "Pass :  100  of  100\n"
     ]
    }
   ],
   "source": [
    "nEpochs = 100\n",
    "learningRate = 0.01\n",
    "lossFn = nn.CrossEntropyLoss()\n",
    "\n",
    "optimizer = optim.SGD(model.parameters(), lr=learningRate)\n",
    "\n",
    "trainingStep = makeTrainStep(model, optimizer, lossFn)\n",
    "\n",
    "for epoch in range(nEpochs) : \n",
    "    print('Pass : ', epoch + 1, ' of ', nEpochs)\n",
    "    runningLoss = torch.zeros(1)\n",
    "    for i, data in enumerate(trainLoader, 0):\n",
    "        xBatch, yBatch = data\n",
    "        loss = trainingStep(xBatch, yBatch)\n",
    "        runningLoss += loss.item()\n",
    "    losses.append(torch.log(runningLoss))"
   ]
  },
  {
   "cell_type": "code",
   "execution_count": 71,
   "id": "e23f9841",
   "metadata": {},
   "outputs": [
    {
     "data": {
      "text/plain": [
       "[<matplotlib.lines.Line2D at 0x7fadc1d23bd0>]"
      ]
     },
     "execution_count": 71,
     "metadata": {},
     "output_type": "execute_result"
    },
    {
     "data": {
      "image/png": "[encoded data removed]",
      "text/plain": [
       "<Figure size 432x288 with 1 Axes>"
      ]
     },
     "metadata": {
      "needs_background": "light"
     },
     "output_type": "display_data"
    }
   ],
   "source": [
    "plt.plot(losses, color = 'red')"
   ]
  },
  {
   "cell_type": "code",
   "execution_count": 72,
   "id": "0e3f59d1",
   "metadata": {},
   "outputs": [
    {
     "name": "stdout",
     "output_type": "stream",
     "text": [
      "Accuracy :  tensor(0.9912)\n"
     ]
    }
   ],
   "source": [
    "totalPredictions = 0\n",
    "correctPredictions = 0\n",
    "wrongPred1 = []\n",
    "model.eval()\n",
    "for xTestBatch, yTestBatch in testLoader :\n",
    "    yPred = model.predict(xTestBatch)\n",
    "    correctPredictions += torch.eq(yPred, yTestBatch).sum()\n",
    "    \n",
    "    for i, sample in enumerate(yPred, 0) : \n",
    "        if(yPred[i] != yTestBatch[i]) :\n",
    "            wrongPred1.append({'image' : xTestBatch[i][0], 'answer' : yTestBatch[i], 'pred' : yPred[i]})\n",
    "    totalPredictions += batchSize\n",
    "print('Accuracy : ', correctPredictions/totalPredictions)\n"
   ]
  },
  {
   "cell_type": "code",
   "execution_count": 73,
   "id": "74f665f7",
   "metadata": {},
   "outputs": [
    {
     "name": "stdout",
     "output_type": "stream",
     "text": [
      "Answer :  tensor(3)\n",
      "Predic :  tensor(5.)\n"
     ]
    },
    {
     "data": {
      "image/png": "[encoded data removed]",
      "text/plain": [
       "<Figure size 432x288 with 1 Axes>"
      ]
     },
     "metadata": {
      "needs_background": "light"
     },
     "output_type": "display_data"
    }
   ],
   "source": [
    "i = 9\n",
    "plt.imshow(wrongPred1[i]['image'])\n",
    "print('Answer : ', wrongPred1[i]['answer'])\n",
    "print('Predic : ', wrongPred1[i]['pred'])"
   ]
  },
  {
   "cell_type": "code",
   "execution_count": null,
   "id": "f9b9a75b",
   "metadata": {},
   "outputs": [],
   "source": [
    "PATH = 'savedModels/' + datetime.now().strftime(\"%Y_%m_%d-%H:%M:%S\") + '.pth'\n",
    "torch.save({'params' : model.state_dict(), 'losses' : }, PATH)"
   ]
  },
  {
   "cell_type": "code",
   "execution_count": 1,
   "id": "88514633",
   "metadata": {},
   "outputs": [
    {
     "ename": "NameError",
     "evalue": "name 'plt' is not defined",
     "output_type": "error",
     "traceback": [
      "\u001b[0;31m---------------------------------------------------------------------------\u001b[0m",
      "\u001b[0;31mNameError\u001b[0m                                 Traceback (most recent call last)",
      "\u001b[0;32m<ipython-input-1-9dff42473173>\u001b[0m in \u001b[0;36m<module>\u001b[0;34m\u001b[0m\n\u001b[1;32m      1\u001b[0m \u001b[0mi\u001b[0m \u001b[0;34m=\u001b[0m \u001b[0;36m9\u001b[0m\u001b[0;34m\u001b[0m\u001b[0;34m\u001b[0m\u001b[0m\n\u001b[0;32m----> 2\u001b[0;31m \u001b[0mplt\u001b[0m\u001b[0;34m.\u001b[0m\u001b[0mimshow\u001b[0m\u001b[0;34m(\u001b[0m\u001b[0mwrongPred1\u001b[0m\u001b[0;34m[\u001b[0m\u001b[0mi\u001b[0m\u001b[0;34m]\u001b[0m\u001b[0;34m[\u001b[0m\u001b[0;34m'image'\u001b[0m\u001b[0;34m]\u001b[0m\u001b[0;34m)\u001b[0m\u001b[0;34m\u001b[0m\u001b[0;34m\u001b[0m\u001b[0m\n\u001b[0m\u001b[1;32m      3\u001b[0m \u001b[0mprint\u001b[0m\u001b[0;34m(\u001b[0m\u001b[0;34m'Answer : '\u001b[0m\u001b[0;34m,\u001b[0m \u001b[0mwrongPred1\u001b[0m\u001b[0;34m[\u001b[0m\u001b[0mi\u001b[0m\u001b[0;34m]\u001b[0m\u001b[0;34m[\u001b[0m\u001b[0;34m'answer'\u001b[0m\u001b[0;34m]\u001b[0m\u001b[0;34m)\u001b[0m\u001b[0;34m\u001b[0m\u001b[0;34m\u001b[0m\u001b[0m\n\u001b[1;32m      4\u001b[0m \u001b[0mprint\u001b[0m\u001b[0;34m(\u001b[0m\u001b[0;34m'Predic : '\u001b[0m\u001b[0;34m,\u001b[0m \u001b[0mwrongPred1\u001b[0m\u001b[0;34m[\u001b[0m\u001b[0mi\u001b[0m\u001b[0;34m]\u001b[0m\u001b[0;34m[\u001b[0m\u001b[0;34m'pred'\u001b[0m\u001b[0;34m]\u001b[0m\u001b[0;34m)\u001b[0m\u001b[0;34m\u001b[0m\u001b[0;34m\u001b[0m\u001b[0m\n",
      "\u001b[0;31mNameError\u001b[0m: name 'plt' is not defined"
     ]
    }
   ],
   "source": []
  }
 ],
 "metadata": {
  "kernelspec": {
   "display_name": "Python 3",
   "language": "python",
   "name": "python3"
  },
  "language_info": {
   "codemirror_mode": {
    "name": "ipython",
    "version": 3
   },
   "file_extension": ".py",
   "mimetype": "text/x-python",
   "name": "python",
   "nbconvert_exporter": "python",
   "pygments_lexer": "ipython3",
   "version": "3.7.10"
  }
 },
 "nbformat": 4,
 "nbformat_minor": 5
}
