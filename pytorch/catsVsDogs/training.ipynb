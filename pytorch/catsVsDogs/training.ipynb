{
 "cells": [
  {
   "cell_type": "code",
   "execution_count": 4,
   "id": "eb4fe3b5",
   "metadata": {},
   "outputs": [],
   "source": [
    "import torch\n",
    "import cv2"
   ]
  },
  {
   "cell_type": "code",
   "execution_count": 5,
   "id": "a6cb60df",
   "metadata": {},
   "outputs": [],
   "source": [
    "# sampleSubmissionUrl = 'https://storage.googleapis.com/kagglesdsdata/competitions/3362/31148/sampleSubmission.csv?GoogleAccessId=web-data@kaggle-161607.iam.gserviceaccount.com&Expires=1641707019&Signature=XxHTsC617Jgc%2FcYJS6Fh8zZDGy1D%2FhYhp535LKQ5yy%2BaD4dbFuPbXGtLViiGIK2OMTrGFCZNRrSxbasDFO2bG3ZEAqkoj3wvfZk53l6z5ulc0gmisVd5jX71zzjp7X%2Fn1Fbr6%2FCvfvIGOmkTuk4FKOxYKOl5KeJe2IrTngIK3wUZ0Yb2BEmt794kt29wKntIMBJN0DUYQLsB9VaIavx5FnY3Njv78HugzYzuXGLrFmp%2Fe5tqLSjz154qPo3rzuZy42zvRrY005iGV5w4qv4SVEYiBKjP1tbqpF7DIJbHNPUSNwN7rdhbc3xH5O1h6nPfXV%2Brj9XfIMwvnYTo7z0yNg%3D%3D&response-content-disposition=attachment%3B+filename%3DsampleSubmission.csv'\n",
    "# trainDataUrl = 'https://storage.googleapis.com/kagglesdsdata/competitions/3362/31148/train.zip?GoogleAccessId=web-data@kaggle-161607.iam.gserviceaccount.com&Expires=1641707115&Signature=WefqSFIkJ6qJ2ldNKyE%2Fx6G0AxPPjFOmtCC7O6zjY9OJqQATQwbOFX0FUvrK9UP1qv4fka5hxEaE4FBHWHqwQlZhQTWpUBQZbR4%2F29PkWypJTBGLstQEInrfZRU42u6gGu1ZVB9Cn6pfosbThl9nh6UPjbsYzvqjpx0GQh9CI8GaWaX1VERS957INc25mOtjPf7lTfqpluKb%2FH1q4YpWCtcjO0vLi%2FARb%2BoMsS3z33RWDsooGghV%2FWzc896SDX79pcwKgHd%2Bk5DXtdSHNYtxHB2HiyD5bzHBkIJ0vDN7JJBiQMzWQPQeeqe7HthRaGYGEkac6M2UaRyMaJeX3ikylQ%3D%3D&response-content-disposition=attachment%3B+filename%3Dtrain.zip'\n",
    "# testDataUrl = 'https://storage.googleapis.com/kagglesdsdata/competitions/3362/31148/test1.zip?GoogleAccessId=web-data@kaggle-161607.iam.gserviceaccount.com&Expires=1641707027&Signature=bmQWPceS%2FhM1aDp7NFozfKJeFft3%2FyEMxi9y6nLCE%2FGP4YnoV3I8dMiswhfSWlgK6DmPwaWEDR9xOJ9dU7%2FlX4D7W6WqlTd9cGnD%2FpU4auOLaAV1fcpi6iGpWmbRjYxtV3ZTqJNsE8UgfILhd5L02%2FLOGLTCRF70Vp8JCxjXYB1T0Ww1CpxNgQKrXq1b%2Bs8E8JDXausZ2ZwqbTbcIi6oK5xqABZdEtXyZPliYljQdm4GEAlfoaJRuZoq6J8S2wfucFLytuAPWTZJb9Mcr1VlXPw4k2QshTPL1UrmpPnCATxCLNSk%2FB4SyUK9eJI1Dywvio%2FCoQfVZADVrWesuePo4g%3D%3D&response-content-disposition=attachment%3B+filename%3Dtest1.zip'"
   ]
  },
  {
   "cell_type": "code",
   "execution_count": 11,
   "id": "7236d6f0",
   "metadata": {},
   "outputs": [],
   "source": [
    "# !wget {sampleSubmissionUrl} --directory-prefix=data"
   ]
  },
  {
   "cell_type": "code",
   "execution_count": null,
   "id": "d758d3e0",
   "metadata": {},
   "outputs": [],
   "source": []
  }
 ],
 "metadata": {
  "kernelspec": {
   "display_name": "Python 3",
   "language": "python",
   "name": "python3"
  },
  "language_info": {
   "codemirror_mode": {
    "name": "ipython",
    "version": 3
   },
   "file_extension": ".py",
   "mimetype": "text/x-python",
   "name": "python",
   "nbconvert_exporter": "python",
   "pygments_lexer": "ipython3",
   "version": "3.7.10"
  }
 },
 "nbformat": 4,
 "nbformat_minor": 5
}
