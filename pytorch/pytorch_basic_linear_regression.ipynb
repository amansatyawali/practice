{
 "cells": [
  {
   "cell_type": "code",
   "execution_count": 1,
   "id": "fb9c589a",
   "metadata": {},
   "outputs": [],
   "source": [
    "import torch\n",
    "import numpy as np\n",
    "import matplotlib.pyplot as plt\n",
    "np.random.seed(42)\n",
    "from sklearn.linear_model import LinearRegression\n",
    "from torchviz import make_dot"
   ]
  },
  {
   "cell_type": "code",
   "execution_count": 2,
   "id": "843acb9b",
   "metadata": {},
   "outputs": [],
   "source": [
    "x = np.random.rand(100, 1)"
   ]
  },
  {
   "cell_type": "code",
   "execution_count": 3,
   "id": "cebafa96",
   "metadata": {},
   "outputs": [],
   "source": [
    "y = 2 * x + 1 + .1 * np.random.randn(100, 1)"
   ]
  },
  {
   "cell_type": "code",
   "execution_count": 4,
   "id": "8c35710e",
   "metadata": {},
   "outputs": [
    {
     "data": {
      "text/plain": [
       "<matplotlib.collections.PathCollection at 0x7f2188f18690>"
      ]
     },
     "execution_count": 4,
     "metadata": {},
     "output_type": "execute_result"
    },
    {
     "data": {
      "image/png": "[encoded data removed]",
      "text/plain": [
       "<Figure size 432x288 with 1 Axes>"
      ]
     },
     "metadata": {
      "needs_background": "light"
     },
     "output_type": "display_data"
    }
   ],
   "source": [
    "plt.scatter(x, y)"
   ]
  },
  {
   "cell_type": "code",
   "execution_count": 5,
   "id": "4d6eb7f8",
   "metadata": {},
   "outputs": [
    {
     "data": {
      "text/plain": [
       "array([ 0,  1,  2,  3,  4,  5,  6,  7,  8,  9, 10, 11, 12, 13, 14, 15, 16,\n",
       "       17, 18, 19, 20, 21, 22, 23, 24, 25, 26, 27, 28, 29, 30, 31, 32, 33,\n",
       "       34, 35, 36, 37, 38, 39, 40, 41, 42, 43, 44, 45, 46, 47, 48, 49, 50,\n",
       "       51, 52, 53, 54, 55, 56, 57, 58, 59, 60, 61, 62, 63, 64, 65, 66, 67,\n",
       "       68, 69, 70, 71, 72, 73, 74, 75, 76, 77, 78, 79, 80, 81, 82, 83, 84,\n",
       "       85, 86, 87, 88, 89, 90, 91, 92, 93, 94, 95, 96, 97, 98, 99])"
      ]
     },
     "execution_count": 5,
     "metadata": {},
     "output_type": "execute_result"
    }
   ],
   "source": [
    "idx = np.arange(100)\n",
    "idx"
   ]
  },
  {
   "cell_type": "code",
   "execution_count": 6,
   "id": "a0ea5731",
   "metadata": {},
   "outputs": [
    {
     "data": {
      "text/plain": [
       "array([76, 83, 80, 98,  2, 77, 71, 84, 89, 50, 40, 51, 67, 86, 37, 49,  4,\n",
       "       10, 69, 81,  9, 54, 55, 87, 64, 44, 90, 75, 33, 30, 93, 95, 14, 61,\n",
       "       11, 13, 15,  7,  0, 19, 35,  6, 12, 65, 70, 88, 56, 58, 28, 38, 91,\n",
       "       42,  8, 73, 39, 85, 25, 92, 41, 26,  1, 22, 21, 46, 74, 79, 78, 72,\n",
       "       57, 53, 24, 17, 66, 32, 31, 62, 59, 52, 82, 23, 36,  5, 45, 99, 43,\n",
       "       16, 48, 94, 34,  3, 18, 47, 60, 68, 63, 27, 96, 29, 20, 97])"
      ]
     },
     "execution_count": 6,
     "metadata": {},
     "output_type": "execute_result"
    }
   ],
   "source": [
    "np.random.shuffle(idx)\n",
    "idx"
   ]
  },
  {
   "cell_type": "code",
   "execution_count": 7,
   "id": "767837f1",
   "metadata": {},
   "outputs": [],
   "source": [
    "train_idx = idx[:80]\n",
    "test_idx = idx[80:]"
   ]
  },
  {
   "cell_type": "code",
   "execution_count": 8,
   "id": "8256fd31",
   "metadata": {},
   "outputs": [],
   "source": [
    "xTrain = x[train_idx].astype('float32')\n",
    "yTrain = y[train_idx].astype('float32')\n",
    "xTest = x[test_idx].astype('float32')\n",
    "yTest = y[test_idx].astype('float32')"
   ]
  },
  {
   "cell_type": "code",
   "execution_count": 9,
   "id": "cd079070",
   "metadata": {},
   "outputs": [],
   "source": [
    "nEpochs = 400\n",
    "learningRate = 0.1"
   ]
  },
  {
   "cell_type": "code",
   "execution_count": 10,
   "id": "5621c76c",
   "metadata": {},
   "outputs": [
    {
     "name": "stdout",
     "output_type": "stream",
     "text": [
      "[1.96255165] [1.02681811]\n"
     ]
    }
   ],
   "source": [
    "a = np.random.randn(1)\n",
    "b = np.random.randn(1)\n",
    "lossByEpoch = []\n",
    "for i in range(nEpochs) : \n",
    "    yPred = xTrain * a + b\n",
    "    error = yPred - yTrain\n",
    "    loss = (error ** 2).mean()\n",
    "    aGrad = -2 * (error * xTrain).mean()\n",
    "    bGrad = -2 * error.mean()\n",
    "    a = a + learningRate * aGrad\n",
    "    b = b + learningRate * bGrad\n",
    "    lossByEpoch.append(np.log(loss))\n",
    "\n",
    "endLoss = loss\n",
    "print(a, b)"
   ]
  },
  {
   "cell_type": "code",
   "execution_count": 11,
   "id": "81c59953",
   "metadata": {},
   "outputs": [
    {
     "data": {
      "text/plain": [
       "[<matplotlib.lines.Line2D at 0x7f2188db0bd0>]"
      ]
     },
     "execution_count": 11,
     "metadata": {},
     "output_type": "execute_result"
    },
    {
     "data": {
      "image/png": "[encoded data removed]",
      "text/plain": [
       "<Figure size 432x288 with 1 Axes>"
      ]
     },
     "metadata": {
      "needs_background": "light"
     },
     "output_type": "display_data"
    }
   ],
   "source": [
    "fig1, ax1 = plt.subplots()\n",
    "ax1.scatter(x, y)\n",
    "ax1.plot([0 * a + b, 1 * a + b], color = 'red')"
   ]
  },
  {
   "cell_type": "code",
   "execution_count": 12,
   "id": "13503081",
   "metadata": {},
   "outputs": [
    {
     "data": {
      "text/plain": [
       "[<matplotlib.lines.Line2D at 0x7f2188de2a10>]"
      ]
     },
     "execution_count": 12,
     "metadata": {},
     "output_type": "execute_result"
    },
    {
     "data": {
      "image/png": "[encoded data removed]",
      "text/plain": [
       "<Figure size 432x288 with 1 Axes>"
      ]
     },
     "metadata": {
      "needs_background": "light"
     },
     "output_type": "display_data"
    }
   ],
   "source": [
    "\n",
    "fig2, ax2 = plt.subplots()\n",
    "ax2.plot(lossByEpoch)"
   ]
  },
  {
   "cell_type": "code",
   "execution_count": 13,
   "id": "a3364d7c",
   "metadata": {},
   "outputs": [
    {
     "name": "stdout",
     "output_type": "stream",
     "text": [
      "0.008600978597181303\n"
     ]
    }
   ],
   "source": [
    "yPred = xTest * a + b\n",
    "error = yPred - yTest\n",
    "validationLoss = (error ** 2).mean()\n",
    "print(validationLoss)"
   ]
  },
  {
   "cell_type": "markdown",
   "id": "691c431e",
   "metadata": {},
   "source": [
    "<h3>Comparing the results with sklearn regression</h3>"
   ]
  },
  {
   "cell_type": "code",
   "execution_count": 14,
   "id": "d58d65e4",
   "metadata": {},
   "outputs": [],
   "source": [
    "reg = LinearRegression().fit(xTrain, yTrain)"
   ]
  },
  {
   "cell_type": "code",
   "execution_count": 15,
   "id": "0d282391",
   "metadata": {},
   "outputs": [
    {
     "data": {
      "text/plain": [
       "0.9611667583868841"
      ]
     },
     "execution_count": 15,
     "metadata": {},
     "output_type": "execute_result"
    }
   ],
   "source": [
    "reg.score(xTest, yTest)"
   ]
  },
  {
   "cell_type": "code",
   "execution_count": 16,
   "id": "75e9acb8",
   "metadata": {},
   "outputs": [
    {
     "name": "stdout",
     "output_type": "stream",
     "text": [
      "0.0086585\n"
     ]
    }
   ],
   "source": [
    "yPred = reg.predict(xTest)\n",
    "error = yPred - yTest\n",
    "skLEarnLoss = (error ** 2).mean()\n",
    "print(skLEarnLoss)"
   ]
  },
  {
   "cell_type": "code",
   "execution_count": 17,
   "id": "73a07423",
   "metadata": {},
   "outputs": [
    {
     "data": {
      "text/plain": [
       "array([[1.9689646]], dtype=float32)"
      ]
     },
     "execution_count": 17,
     "metadata": {},
     "output_type": "execute_result"
    }
   ],
   "source": [
    "reg.coef_"
   ]
  },
  {
   "cell_type": "code",
   "execution_count": 18,
   "id": "703aca09",
   "metadata": {},
   "outputs": [
    {
     "data": {
      "text/plain": [
       "array([1.0235407], dtype=float32)"
      ]
     },
     "execution_count": 18,
     "metadata": {},
     "output_type": "execute_result"
    }
   ],
   "source": [
    "reg.intercept_"
   ]
  },
  {
   "cell_type": "markdown",
   "id": "6956d888",
   "metadata": {},
   "source": [
    "<h3>Pytorch</h3>"
   ]
  },
  {
   "cell_type": "code",
   "execution_count": 19,
   "id": "56f5e310",
   "metadata": {},
   "outputs": [
    {
     "name": "stdout",
     "output_type": "stream",
     "text": [
      "<class 'numpy.ndarray'> <class 'torch.Tensor'> torch.FloatTensor\n"
     ]
    }
   ],
   "source": [
    "import torch\n",
    "import torch.optim as optim\n",
    "import torch.nn as nn\n",
    "# from torchviz import make_dot\n",
    "\n",
    "device = 'cuda' if torch.cuda.is_available() else 'cpu'\n",
    "\n",
    "# Our data was in Numpy arrays, but we need to transform them into PyTorch's Tensors\n",
    "# and then we send them to the chosen device\n",
    "x_train_tensor = torch.from_numpy(xTrain).float().to(device)\n",
    "y_train_tensor = torch.from_numpy(yTrain).float().to(device)\n",
    "\n",
    "# Here we can see the difference - notice that .type() is more useful\n",
    "# since it also tells us WHERE the tensor is (device)\n",
    "print(type(xTrain), type(x_train_tensor), x_train_tensor.type())"
   ]
  },
  {
   "cell_type": "code",
   "execution_count": 20,
   "id": "e0482204",
   "metadata": {},
   "outputs": [
    {
     "name": "stdout",
     "output_type": "stream",
     "text": [
      "cpu\n"
     ]
    }
   ],
   "source": [
    "print(device)"
   ]
  },
  {
   "cell_type": "code",
   "execution_count": 21,
   "id": "db835b3f",
   "metadata": {},
   "outputs": [
    {
     "name": "stdout",
     "output_type": "stream",
     "text": [
      "tensor([-0.9884], requires_grad=True) tensor([-0.9079], requires_grad=True)\n",
      "tensor([-1.3715], requires_grad=True) tensor([-1.3093], requires_grad=True)\n",
      "tensor([0.7806], requires_grad=True) tensor([0.7179], requires_grad=True)\n"
     ]
    }
   ],
   "source": [
    "# FIRST\n",
    "# Initializes parameters \"a\" and \"b\" randomly, ALMOST as we did in Numpy\n",
    "# since we want to apply gradient descent on these parameters, we need\n",
    "# to set REQUIRES_GRAD = TRUE\n",
    "a = torch.randn(1, requires_grad=True, dtype=torch.float)\n",
    "b = torch.randn(1, requires_grad=True, dtype=torch.float)\n",
    "print(a, b)\n",
    "\n",
    "# SECOND\n",
    "# But what if we want to run it on a GPU? We could just send them to device, right?\n",
    "a = torch.randn(1, requires_grad=True, dtype=torch.float).to(device)\n",
    "b = torch.randn(1, requires_grad=True, dtype=torch.float).to(device)\n",
    "print(a, b)\n",
    "# Sorry, but NO! The to(device) \"shadows\" the gradient...\n",
    "\n",
    "# THIRD\n",
    "# We can either create regular tensors and send them to the device (as we did with our data)\n",
    "a = torch.randn(1, dtype=torch.float).to(device)\n",
    "b = torch.randn(1, dtype=torch.float).to(device)\n",
    "# and THEN set them as requiring gradients...\n",
    "a.requires_grad_()\n",
    "b.requires_grad_()\n",
    "print(a, b)"
   ]
  },
  {
   "cell_type": "code",
   "execution_count": 22,
   "id": "4b2b7e48",
   "metadata": {},
   "outputs": [],
   "source": [
    "xTrain = torch.from_numpy(xTrain)\n",
    "yTrain = torch.from_numpy(yTrain)\n",
    "xTest = torch.from_numpy(xTest)\n",
    "yTest = torch.from_numpy(yTest)"
   ]
  },
  {
   "cell_type": "code",
   "execution_count": 23,
   "id": "5b277c9d",
   "metadata": {},
   "outputs": [],
   "source": [
    "a = torch.tensor(1,dtype = torch.float, requires_grad = True)\n",
    "b = torch.tensor(1,dtype = torch.float,requires_grad = True)"
   ]
  },
  {
   "cell_type": "code",
   "execution_count": 24,
   "id": "9f3952c1",
   "metadata": {},
   "outputs": [],
   "source": [
    "a = torch.tensor(1,dtype = torch.float, requires_grad = True)\n",
    "b = torch.tensor(1,dtype = torch.float,requires_grad = True)\n",
    "\n",
    "nEpochs = 400\n",
    "variablesByEpoch = torch.zeros((3, nEpochs), dtype = torch.float)\n",
    "for i in range(nEpochs) : \n",
    "    yPred = xTrain * a + b\n",
    "    error = yPred - yTrain\n",
    "    loss = (error ** 2).mean()\n",
    "    loss.backward()\n",
    "    with torch.no_grad():\n",
    "            a.sub_(learningRate * a.grad)\n",
    "            b.sub_(learningRate* b.grad)\n",
    "    a.grad.zero_()\n",
    "    b.grad.zero_()\n",
    "    variablesByEpoch[0][i] = a.clone().detach()\n",
    "    variablesByEpoch[1][i] = b.clone().detach()\n",
    "    variablesByEpoch[2][i] = loss.clone().detach()\n"
   ]
  },
  {
   "cell_type": "code",
   "execution_count": 25,
   "id": "c55ede20",
   "metadata": {},
   "outputs": [
    {
     "data": {
      "text/plain": [
       "[<matplotlib.lines.Line2D at 0x7f21884a2c10>]"
      ]
     },
     "execution_count": 25,
     "metadata": {},
     "output_type": "execute_result"
    },
    {
     "data": {
      "image/png": "[encoded data removed]",
      "text/plain": [
       "<Figure size 432x288 with 1 Axes>"
      ]
     },
     "metadata": {
      "needs_background": "light"
     },
     "output_type": "display_data"
    }
   ],
   "source": [
    "fig3, ax1 = plt.subplots()\n",
    "ax1.plot(variablesByEpoch[0], color = 'red')\n",
    "ax1.plot(variablesByEpoch[1], color = 'blue')"
   ]
  },
  {
   "cell_type": "code",
   "execution_count": 26,
   "id": "817947f6",
   "metadata": {},
   "outputs": [
    {
     "data": {
      "text/plain": [
       "[<matplotlib.lines.Line2D at 0x7f2188498890>]"
      ]
     },
     "execution_count": 26,
     "metadata": {},
     "output_type": "execute_result"
    },
    {
     "data": {
      "image/png": "[encoded data removed]",
      "text/plain": [
       "<Figure size 432x288 with 1 Axes>"
      ]
     },
     "metadata": {
      "needs_background": "light"
     },
     "output_type": "display_data"
    }
   ],
   "source": [
    "fig4, ax1 = plt.subplots()\n",
    "ax1.plot(variablesByEpoch[2], color = 'red')"
   ]
  },
  {
   "cell_type": "code",
   "execution_count": 27,
   "id": "5f9f7978",
   "metadata": {},
   "outputs": [
    {
     "data": {
      "image/svg+xml": [
       "<?xml version=\"1.0\" encoding=\"UTF-8\" standalone=\"no\"?>\n",
       "<!DOCTYPE svg PUBLIC \"-//W3C//DTD SVG 1.1//EN\"\n",
       " \"http://www.w3.org/Graphics/SVG/1.1/DTD/svg11.dtd\">\n",
       "<!-- Generated by graphviz version 2.43.0 (0)\n",
       " -->\n",
       "<!-- Title: %3 Pages: 1 -->\n",
       "<svg width=\"222pt\" height=\"448pt\"\n",
       " viewBox=\"0.00 0.00 222.00 448.00\" xmlns=\"http://www.w3.org/2000/svg\" xmlns:xlink=\"http://www.w3.org/1999/xlink\">\n",
       "<g id=\"graph0\" class=\"graph\" transform=\"scale(1 1) rotate(0) translate(4 444)\">\n",
       "<title>%3</title>\n",
       "<polygon fill=\"white\" stroke=\"transparent\" points=\"-4,4 -4,-444 218,-444 218,4 -4,4\"/>\n",
       "<!-- 139784278217584 -->\n",
       "<g id=\"node1\" class=\"node\">\n",
       "<title>139784278217584</title>\n",
       "<polygon fill=\"#caff70\" stroke=\"black\" points=\"133.5,-31 79.5,-31 79.5,0 133.5,0 133.5,-31\"/>\n",
       "<text text-anchor=\"middle\" x=\"106.5\" y=\"-7\" font-family=\"monospace\" font-size=\"10.00\"> ()</text>\n",
       "</g>\n",
       "<!-- 139782010772752 -->\n",
       "<g id=\"node2\" class=\"node\">\n",
       "<title>139782010772752</title>\n",
       "<polygon fill=\"lightgrey\" stroke=\"black\" points=\"154,-86 59,-86 59,-67 154,-67 154,-86\"/>\n",
       "<text text-anchor=\"middle\" x=\"106.5\" y=\"-74\" font-family=\"monospace\" font-size=\"10.00\">MeanBackward0</text>\n",
       "</g>\n",
       "<!-- 139782010772752&#45;&gt;139784278217584 -->\n",
       "<g id=\"edge9\" class=\"edge\">\n",
       "<title>139782010772752&#45;&gt;139784278217584</title>\n",
       "<path fill=\"none\" stroke=\"black\" d=\"M106.5,-66.79C106.5,-60.07 106.5,-50.4 106.5,-41.34\"/>\n",
       "<polygon fill=\"black\" stroke=\"black\" points=\"110,-41.19 106.5,-31.19 103,-41.19 110,-41.19\"/>\n",
       "</g>\n",
       "<!-- 139781997416400 -->\n",
       "<g id=\"node3\" class=\"node\">\n",
       "<title>139781997416400</title>\n",
       "<polygon fill=\"lightgrey\" stroke=\"black\" points=\"151,-141 62,-141 62,-122 151,-122 151,-141\"/>\n",
       "<text text-anchor=\"middle\" x=\"106.5\" y=\"-129\" font-family=\"monospace\" font-size=\"10.00\">PowBackward0</text>\n",
       "</g>\n",
       "<!-- 139781997416400&#45;&gt;139782010772752 -->\n",
       "<g id=\"edge1\" class=\"edge\">\n",
       "<title>139781997416400&#45;&gt;139782010772752</title>\n",
       "<path fill=\"none\" stroke=\"black\" d=\"M106.5,-121.75C106.5,-114.8 106.5,-104.85 106.5,-96.13\"/>\n",
       "<polygon fill=\"black\" stroke=\"black\" points=\"110,-96.09 106.5,-86.09 103,-96.09 110,-96.09\"/>\n",
       "</g>\n",
       "<!-- 139781996914320 -->\n",
       "<g id=\"node4\" class=\"node\">\n",
       "<title>139781996914320</title>\n",
       "<polygon fill=\"lightgrey\" stroke=\"black\" points=\"151,-196 62,-196 62,-177 151,-177 151,-196\"/>\n",
       "<text text-anchor=\"middle\" x=\"106.5\" y=\"-184\" font-family=\"monospace\" font-size=\"10.00\">SubBackward0</text>\n",
       "</g>\n",
       "<!-- 139781996914320&#45;&gt;139781997416400 -->\n",
       "<g id=\"edge2\" class=\"edge\">\n",
       "<title>139781996914320&#45;&gt;139781997416400</title>\n",
       "<path fill=\"none\" stroke=\"black\" d=\"M106.5,-176.75C106.5,-169.8 106.5,-159.85 106.5,-151.13\"/>\n",
       "<polygon fill=\"black\" stroke=\"black\" points=\"110,-151.09 106.5,-141.09 103,-151.09 110,-151.09\"/>\n",
       "</g>\n",
       "<!-- 139781996896208 -->\n",
       "<g id=\"node5\" class=\"node\">\n",
       "<title>139781996896208</title>\n",
       "<polygon fill=\"lightgrey\" stroke=\"black\" points=\"151,-251 62,-251 62,-232 151,-232 151,-251\"/>\n",
       "<text text-anchor=\"middle\" x=\"106.5\" y=\"-239\" font-family=\"monospace\" font-size=\"10.00\">AddBackward0</text>\n",
       "</g>\n",
       "<!-- 139781996896208&#45;&gt;139781996914320 -->\n",
       "<g id=\"edge3\" class=\"edge\">\n",
       "<title>139781996896208&#45;&gt;139781996914320</title>\n",
       "<path fill=\"none\" stroke=\"black\" d=\"M106.5,-231.75C106.5,-224.8 106.5,-214.85 106.5,-206.13\"/>\n",
       "<polygon fill=\"black\" stroke=\"black\" points=\"110,-206.09 106.5,-196.09 103,-206.09 110,-206.09\"/>\n",
       "</g>\n",
       "<!-- 139782006849296 -->\n",
       "<g id=\"node6\" class=\"node\">\n",
       "<title>139782006849296</title>\n",
       "<polygon fill=\"lightgrey\" stroke=\"black\" points=\"95,-306 6,-306 6,-287 95,-287 95,-306\"/>\n",
       "<text text-anchor=\"middle\" x=\"50.5\" y=\"-294\" font-family=\"monospace\" font-size=\"10.00\">MulBackward0</text>\n",
       "</g>\n",
       "<!-- 139782006849296&#45;&gt;139781996896208 -->\n",
       "<g id=\"edge4\" class=\"edge\">\n",
       "<title>139782006849296&#45;&gt;139781996896208</title>\n",
       "<path fill=\"none\" stroke=\"black\" d=\"M59.5,-286.98C67.69,-279.23 80.01,-267.58 89.97,-258.14\"/>\n",
       "<polygon fill=\"black\" stroke=\"black\" points=\"92.48,-260.59 97.34,-251.17 87.67,-255.5 92.48,-260.59\"/>\n",
       "</g>\n",
       "<!-- 139781996914128 -->\n",
       "<g id=\"node7\" class=\"node\">\n",
       "<title>139781996914128</title>\n",
       "<polygon fill=\"lightgrey\" stroke=\"black\" points=\"101,-367 0,-367 0,-348 101,-348 101,-367\"/>\n",
       "<text text-anchor=\"middle\" x=\"50.5\" y=\"-355\" font-family=\"monospace\" font-size=\"10.00\">AccumulateGrad</text>\n",
       "</g>\n",
       "<!-- 139781996914128&#45;&gt;139782006849296 -->\n",
       "<g id=\"edge5\" class=\"edge\">\n",
       "<title>139781996914128&#45;&gt;139782006849296</title>\n",
       "<path fill=\"none\" stroke=\"black\" d=\"M50.5,-347.79C50.5,-339.6 50.5,-327.06 50.5,-316.55\"/>\n",
       "<polygon fill=\"black\" stroke=\"black\" points=\"54,-316.24 50.5,-306.24 47,-316.24 54,-316.24\"/>\n",
       "</g>\n",
       "<!-- 139782005976512 -->\n",
       "<g id=\"node8\" class=\"node\">\n",
       "<title>139782005976512</title>\n",
       "<polygon fill=\"lightblue\" stroke=\"black\" points=\"77.5,-440 23.5,-440 23.5,-409 77.5,-409 77.5,-440\"/>\n",
       "<text text-anchor=\"middle\" x=\"50.5\" y=\"-416\" font-family=\"monospace\" font-size=\"10.00\"> ()</text>\n",
       "</g>\n",
       "<!-- 139782005976512&#45;&gt;139781996914128 -->\n",
       "<g id=\"edge6\" class=\"edge\">\n",
       "<title>139782005976512&#45;&gt;139781996914128</title>\n",
       "<path fill=\"none\" stroke=\"black\" d=\"M50.5,-408.75C50.5,-399.39 50.5,-387.19 50.5,-377.16\"/>\n",
       "<polygon fill=\"black\" stroke=\"black\" points=\"54,-377.02 50.5,-367.02 47,-377.02 54,-377.02\"/>\n",
       "</g>\n",
       "<!-- 139781996912720 -->\n",
       "<g id=\"node9\" class=\"node\">\n",
       "<title>139781996912720</title>\n",
       "<polygon fill=\"lightgrey\" stroke=\"black\" points=\"214,-306 113,-306 113,-287 214,-287 214,-306\"/>\n",
       "<text text-anchor=\"middle\" x=\"163.5\" y=\"-294\" font-family=\"monospace\" font-size=\"10.00\">AccumulateGrad</text>\n",
       "</g>\n",
       "<!-- 139781996912720&#45;&gt;139781996896208 -->\n",
       "<g id=\"edge7\" class=\"edge\">\n",
       "<title>139781996912720&#45;&gt;139781996896208</title>\n",
       "<path fill=\"none\" stroke=\"black\" d=\"M154.34,-286.98C146,-279.23 133.47,-267.58 123.32,-258.14\"/>\n",
       "<polygon fill=\"black\" stroke=\"black\" points=\"125.53,-255.42 115.82,-251.17 120.76,-260.54 125.53,-255.42\"/>\n",
       "</g>\n",
       "<!-- 139782005975712 -->\n",
       "<g id=\"node10\" class=\"node\">\n",
       "<title>139782005975712</title>\n",
       "<polygon fill=\"lightblue\" stroke=\"black\" points=\"190.5,-373 136.5,-373 136.5,-342 190.5,-342 190.5,-373\"/>\n",
       "<text text-anchor=\"middle\" x=\"163.5\" y=\"-349\" font-family=\"monospace\" font-size=\"10.00\"> ()</text>\n",
       "</g>\n",
       "<!-- 139782005975712&#45;&gt;139781996912720 -->\n",
       "<g id=\"edge8\" class=\"edge\">\n",
       "<title>139782005975712&#45;&gt;139781996912720</title>\n",
       "<path fill=\"none\" stroke=\"black\" d=\"M163.5,-341.92C163.5,-334.22 163.5,-324.69 163.5,-316.43\"/>\n",
       "<polygon fill=\"black\" stroke=\"black\" points=\"167,-316.25 163.5,-306.25 160,-316.25 167,-316.25\"/>\n",
       "</g>\n",
       "</g>\n",
       "</svg>\n"
      ],
      "text/plain": [
       "<graphviz.graphs.Digraph at 0x7f2189191d90>"
      ]
     },
     "execution_count": 27,
     "metadata": {},
     "output_type": "execute_result"
    }
   ],
   "source": [
    "make_dot(loss)"
   ]
  },
  {
   "cell_type": "code",
   "execution_count": 28,
   "id": "9b4a85c3",
   "metadata": {},
   "outputs": [],
   "source": [
    "a = torch.tensor(1,dtype = torch.float, requires_grad = True)\n",
    "b = torch.tensor(1,dtype = torch.float,requires_grad = True)\n",
    "\n",
    "nEpochs = 400\n",
    "variablesByEpoch = torch.zeros((3, nEpochs), dtype = torch.float)\n",
    "\n",
    "optimizer = optim.SGD([a, b], lr = learningRate)\n",
    "\n",
    "for i in range(nEpochs) : \n",
    "    yPred = xTrain * a + b\n",
    "    error = yPred - yTrain\n",
    "    loss = (error ** 2).mean()\n",
    "    loss.backward()\n",
    "    optimizer.step()\n",
    "    optimizer.zero_grad()\n",
    "    variablesByEpoch[0][i] = a.clone().detach()\n",
    "    variablesByEpoch[1][i] = b.clone().detach()\n",
    "    variablesByEpoch[2][i] = loss.clone().detach()\n",
    "\n"
   ]
  },
  {
   "cell_type": "code",
   "execution_count": 29,
   "id": "8e220dbb",
   "metadata": {},
   "outputs": [
    {
     "data": {
      "text/plain": [
       "[<matplotlib.lines.Line2D at 0x7f218839e990>]"
      ]
     },
     "execution_count": 29,
     "metadata": {},
     "output_type": "execute_result"
    },
    {
     "data": {
      "image/png": "[encoded data removed]",
      "text/plain": [
       "<Figure size 432x288 with 1 Axes>"
      ]
     },
     "metadata": {
      "needs_background": "light"
     },
     "output_type": "display_data"
    }
   ],
   "source": [
    "fig5, ax1 = plt.subplots()\n",
    "ax1.plot(variablesByEpoch[0], color = 'red')\n",
    "ax1.plot(variablesByEpoch[1], color = 'blue')"
   ]
  },
  {
   "cell_type": "code",
   "execution_count": 30,
   "id": "e88cd559",
   "metadata": {},
   "outputs": [
    {
     "data": {
      "text/plain": [
       "[<matplotlib.lines.Line2D at 0x7f2188394650>]"
      ]
     },
     "execution_count": 30,
     "metadata": {},
     "output_type": "execute_result"
    },
    {
     "data": {
      "image/png": "[encoded data removed]",
      "text/plain": [
       "<Figure size 432x288 with 1 Axes>"
      ]
     },
     "metadata": {
      "needs_background": "light"
     },
     "output_type": "display_data"
    }
   ],
   "source": [
    "fig6, ax1 = plt.subplots()\n",
    "ax1.plot(variablesByEpoch[2], color = 'red')"
   ]
  },
  {
   "cell_type": "markdown",
   "id": "2ffe76ce",
   "metadata": {},
   "source": [
    "<h3>Using nn.loss</h3>"
   ]
  },
  {
   "cell_type": "code",
   "execution_count": 31,
   "id": "d2ee2f11",
   "metadata": {},
   "outputs": [],
   "source": [
    "a = torch.tensor(1,dtype = torch.float, requires_grad = True)\n",
    "b = torch.tensor(1,dtype = torch.float,requires_grad = True)\n",
    "\n",
    "nEpochs = 400\n",
    "variablesByEpoch = torch.zeros((3, nEpochs), dtype = torch.float)\n",
    "\n",
    "optimizer = optim.SGD([a, b], lr = learningRate)\n",
    "\n",
    "loss_fn = nn.MSELoss(reduction = 'mean')\n",
    "\n",
    "for i in range(nEpochs) : \n",
    "    yPred = xTrain * a + b\n",
    "    loss = loss_fn(yPred, yTrain)\n",
    "    loss.backward()\n",
    "    optimizer.step()\n",
    "    optimizer.zero_grad()"
   ]
  },
  {
   "cell_type": "markdown",
   "id": "82250505",
   "metadata": {},
   "source": [
    "<h3>Using model class</h3>"
   ]
  },
  {
   "cell_type": "code",
   "execution_count": 32,
   "id": "4cf78f50",
   "metadata": {},
   "outputs": [],
   "source": [
    "class ManualLinearRegression(nn.Module):\n",
    "    def __init__(self):\n",
    "        super().__init__()\n",
    "        # To make \"a\" and \"b\" real parameters of the model, we need to wrap them with nn.Parameter\n",
    "#         self.a = nn.Parameter(torch.randn(1, requires_grad=True, dtype=torch.float))\n",
    "#         self.b = nn.Parameter(torch.randn(1, requires_grad=True, dtype=torch.float))\n",
    "        self.linear = nn.Linear(1, 1)\n",
    "\n",
    "    def forward(self, x):\n",
    "        # Computes the outputs / predictions\n",
    "        return self.linear(x)\n",
    "#         return self.a * x + self.b"
   ]
  },
  {
   "cell_type": "code",
   "execution_count": 33,
   "id": "d1d66f43",
   "metadata": {},
   "outputs": [
    {
     "name": "stdout",
     "output_type": "stream",
     "text": [
      "OrderedDict([('linear.weight', tensor([[1.9668]])), ('linear.bias', tensor([1.0247]))])\n"
     ]
    }
   ],
   "source": [
    "model = ManualLinearRegression()\n",
    "\n",
    "loss_fn = nn.MSELoss(reduction = 'mean')\n",
    "optimizer = optim.SGD(model.parameters(), lr = learningRate)\n",
    "\n",
    "for epoch in range(nEpochs) : \n",
    "    model.train()\n",
    "    yPred = (model(xTrain))\n",
    "    loss = loss_fn(yTrain, yPred)\n",
    "    loss.backward()\n",
    "    \n",
    "    optimizer.step()    \n",
    "    optimizer.zero_grad()\n",
    "    \n",
    "print(model.state_dict())"
   ]
  },
  {
   "cell_type": "markdown",
   "id": "c842e299",
   "metadata": {},
   "source": [
    "<h3>Making a train step</h3>"
   ]
  },
  {
   "cell_type": "code",
   "execution_count": 34,
   "id": "d323c4ab",
   "metadata": {},
   "outputs": [],
   "source": [
    "def make_train_step(model, loss_fn, optimizer) : \n",
    "    \n",
    "    def train_step(xTrain, yTrain) : \n",
    "        model.train()\n",
    "        yPred = (model(xTrain))\n",
    "        loss = loss_fn(yTrain, yPred)\n",
    "        loss.backward()\n",
    "        \n",
    "        optimizer.step()    \n",
    "        optimizer.zero_grad()\n",
    "        return loss.detach()\n",
    "    \n",
    "    return train_step"
   ]
  },
  {
   "cell_type": "code",
   "execution_count": 35,
   "id": "bffbf2ac",
   "metadata": {},
   "outputs": [],
   "source": [
    "model = ManualLinearRegression()\n",
    "optimizer = optim.SGD(model.parameters(), lr = learningRate)\n",
    "train_step = make_train_step(model, loss_fn, optimizer)\n",
    "losses = []\n",
    "\n",
    "for epoch in range(nEpochs) : \n",
    "    loss = train_step(xTrain, yTrain)\n",
    "    losses.append(torch.log(loss))"
   ]
  },
  {
   "cell_type": "code",
   "execution_count": 36,
   "id": "251ab419",
   "metadata": {},
   "outputs": [
    {
     "data": {
      "text/plain": [
       "[<matplotlib.lines.Line2D at 0x7f21882ab650>]"
      ]
     },
     "execution_count": 36,
     "metadata": {},
     "output_type": "execute_result"
    },
    {
     "data": {
      "image/png": "[encoded data removed]",
      "text/plain": [
       "<Figure size 432x288 with 1 Axes>"
      ]
     },
     "metadata": {
      "needs_background": "light"
     },
     "output_type": "display_data"
    }
   ],
   "source": [
    "plt.plot(losses)"
   ]
  },
  {
   "cell_type": "markdown",
   "id": "e8c28ae7",
   "metadata": {},
   "source": [
    "<h3>Creating a dataset</h3>"
   ]
  },
  {
   "cell_type": "code",
   "execution_count": 37,
   "id": "f90d99cf",
   "metadata": {},
   "outputs": [
    {
     "name": "stdout",
     "output_type": "stream",
     "text": [
      "(tensor([0.7713]), tensor([2.4745]))\n",
      "(tensor([0.7713]), tensor([2.4745]))\n"
     ]
    }
   ],
   "source": [
    "from torch.utils.data import Dataset, TensorDataset\n",
    "\n",
    "class CustomDataset(Dataset):\n",
    "    def __init__(self, x_tensor, y_tensor):\n",
    "        self.x = x_tensor\n",
    "        self.y = y_tensor\n",
    "        \n",
    "    def __getitem__(self, index):\n",
    "        return (self.x[index], self.y[index])\n",
    "\n",
    "    def __len__(self):\n",
    "        return len(self.x)\n",
    "\n",
    "train_data = CustomDataset(xTrain, yTrain)\n",
    "print(train_data[0])\n",
    "\n",
    "train_data = TensorDataset(xTrain, yTrain)\n",
    "print(train_data[0])"
   ]
  },
  {
   "cell_type": "markdown",
   "id": "4a80f54b",
   "metadata": {},
   "source": [
    "<h3>Using a data loader</h3>"
   ]
  },
  {
   "cell_type": "code",
   "execution_count": 38,
   "id": "b9bc9c58",
   "metadata": {},
   "outputs": [],
   "source": [
    "from torch.utils.data import DataLoader\n",
    "\n",
    "train_loader = DataLoader(dataset=train_data, batch_size=16, shuffle=True)"
   ]
  },
  {
   "cell_type": "code",
   "execution_count": 39,
   "id": "451e84cf",
   "metadata": {},
   "outputs": [
    {
     "name": "stdout",
     "output_type": "stream",
     "text": [
      "[tensor([[0.7132],\n",
      "        [0.0254],\n",
      "        [0.8872],\n",
      "        [0.5427],\n",
      "        [0.4722],\n",
      "        [0.8662],\n",
      "        [0.7722],\n",
      "        [0.4402],\n",
      "        [0.0206],\n",
      "        [0.5248],\n",
      "        [0.0344],\n",
      "        [0.6075],\n",
      "        [0.6011],\n",
      "        [0.5613],\n",
      "        [0.6376],\n",
      "        [0.8084]]), tensor([[2.6162],\n",
      "        [1.0785],\n",
      "        [2.8708],\n",
      "        [2.2161],\n",
      "        [1.9857],\n",
      "        [2.6805],\n",
      "        [2.4208],\n",
      "        [1.9105],\n",
      "        [1.1327],\n",
      "        [2.0167],\n",
      "        [1.1831],\n",
      "        [2.4037],\n",
      "        [2.1214],\n",
      "        [2.0472],\n",
      "        [2.1930],\n",
      "        [2.6141]])]\n"
     ]
    }
   ],
   "source": [
    "print(next(iter(train_loader)))"
   ]
  },
  {
   "cell_type": "code",
   "execution_count": 40,
   "id": "f5178d7b",
   "metadata": {},
   "outputs": [
    {
     "name": "stdout",
     "output_type": "stream",
     "text": [
      "OrderedDict([('linear.weight', tensor([[1.9685]])), ('linear.bias', tensor([1.0220]))])\n"
     ]
    }
   ],
   "source": [
    "losses = []\n",
    "\n",
    "model = ManualLinearRegression()\n",
    "optimizer = optim.SGD(model.parameters(), lr = learningRate)\n",
    "train_step = make_train_step(model, loss_fn, optimizer)\n",
    "\n",
    "for epoch in range(nEpochs):\n",
    "    for x_batch, y_batch in train_loader:\n",
    "\n",
    "        x_batch = x_batch.to(device)\n",
    "        y_batch = y_batch.to(device)\n",
    "        \n",
    "        loss = train_step(x_batch, y_batch)\n",
    "        losses.append(loss)\n",
    "        \n",
    "print(model.state_dict())"
   ]
  },
  {
   "cell_type": "code",
   "execution_count": 41,
   "id": "a2cf23ec",
   "metadata": {},
   "outputs": [],
   "source": [
    "from torch.utils.data.dataset import random_split\n",
    "\n",
    "x_tensor = torch.from_numpy(x).float()\n",
    "y_tensor = torch.from_numpy(y).float()\n",
    "\n",
    "dataset = TensorDataset(x_tensor, y_tensor)\n",
    "\n",
    "train_dataset, val_dataset = random_split(dataset, [80, 20])\n",
    "\n",
    "train_loader = DataLoader(dataset=train_dataset, batch_size=16)\n",
    "val_loader = DataLoader(dataset=val_dataset, batch_size=20)"
   ]
  },
  {
   "cell_type": "code",
   "execution_count": 43,
   "id": "7049604c",
   "metadata": {},
   "outputs": [
    {
     "name": "stdout",
     "output_type": "stream",
     "text": [
      "OrderedDict([('linear.weight', tensor([[1.9721]])), ('linear.bias', tensor([1.0167]))])\n"
     ]
    }
   ],
   "source": [
    "losses = []\n",
    "valLosses = []\n",
    "\n",
    "model = ManualLinearRegression()\n",
    "optimizer = optim.SGD(model.parameters(), lr = learningRate)\n",
    "train_step = make_train_step(model, loss_fn, optimizer)\n",
    "\n",
    "for epoch in range(nEpochs):\n",
    "    for x_batch, y_batch in train_loader:\n",
    "#         x_batch = x_batch.to(device)\n",
    "#         y_batch = y_batch.to(device)\n",
    "\n",
    "        loss = train_step(x_batch, y_batch)\n",
    "        losses.append(loss)\n",
    "        \n",
    "    with torch.no_grad() : \n",
    "        for x_val, y_val in val_loader:\n",
    "#             x_val = x_val.to(device)\n",
    "#             y_val = y_val.to(device)\n",
    "            \n",
    "            model.eval()\n",
    "\n",
    "            yhat = model(x_val)\n",
    "            valLoss = loss_fn(y_val, yhat)\n",
    "            valLosses.append(valLoss.item())\n",
    "            \n",
    "print(model.state_dict())"
   ]
  },
  {
   "cell_type": "code",
   "execution_count": 46,
   "id": "8281d563",
   "metadata": {},
   "outputs": [
    {
     "data": {
      "text/plain": [
       "[<matplotlib.lines.Line2D at 0x7f2188125850>]"
      ]
     },
     "execution_count": 46,
     "metadata": {},
     "output_type": "execute_result"
    },
    {
     "data": {
      "image/png": "[encoded data removed]",
      "text/plain": [
       "<Figure size 432x288 with 1 Axes>"
      ]
     },
     "metadata": {
      "needs_background": "light"
     },
     "output_type": "display_data"
    }
   ],
   "source": [
    "plt.plot(valLosses)"
   ]
  },
  {
   "cell_type": "code",
   "execution_count": 9,
   "id": "e8caa6b4",
   "metadata": {},
   "outputs": [
    {
     "data": {
      "text/plain": [
       "'2021_12_24-13:28:43'"
      ]
     },
     "execution_count": 9,
     "metadata": {},
     "output_type": "execute_result"
    }
   ],
   "source": [
    "from datetime import datetime\n",
    "datetime.now().strftime(\"%Y_%m_%d-%H:%M:%S\")"
   ]
  }
 ],
 "metadata": {
  "kernelspec": {
   "display_name": "Python 3",
   "language": "python",
   "name": "python3"
  },
  "language_info": {
   "codemirror_mode": {
    "name": "ipython",
    "version": 3
   },
   "file_extension": ".py",
   "mimetype": "text/x-python",
   "name": "python",
   "nbconvert_exporter": "python",
   "pygments_lexer": "ipython3",
   "version": "3.7.10"
  }
 },
 "nbformat": 4,
 "nbformat_minor": 5
}
