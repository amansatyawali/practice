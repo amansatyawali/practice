{
 "cells": [
  {
   "cell_type": "code",
   "execution_count": 1,
   "id": "4a32a627",
   "metadata": {},
   "outputs": [
    {
     "name": "stdout",
     "output_type": "stream",
     "text": [
      "Requirement already satisfied: textblob in /home/aman.satyawali/anaconda3/lib/python3.7/site-packages (0.15.3)\n",
      "Requirement already satisfied: nltk>=3.1 in /home/aman.satyawali/anaconda3/lib/python3.7/site-packages (from textblob) (3.6.1)\n",
      "Requirement already satisfied: regex in /home/aman.satyawali/anaconda3/lib/python3.7/site-packages (from nltk>=3.1->textblob) (2021.4.4)\n",
      "Requirement already satisfied: click in /home/aman.satyawali/anaconda3/lib/python3.7/site-packages (from nltk>=3.1->textblob) (7.1.2)\n",
      "Requirement already satisfied: tqdm in /home/aman.satyawali/anaconda3/lib/python3.7/site-packages (from nltk>=3.1->textblob) (4.59.0)\n",
      "Requirement already satisfied: joblib in /home/aman.satyawali/anaconda3/lib/python3.7/site-packages (from nltk>=3.1->textblob) (1.0.1)\n"
     ]
    }
   ],
   "source": [
    "!pip install textblob"
   ]
  },
  {
   "cell_type": "code",
   "execution_count": 2,
   "id": "e9d7cefb",
   "metadata": {},
   "outputs": [
    {
     "name": "stdout",
     "output_type": "stream",
     "text": [
      "[nltk_data] Downloading package brown to\n",
      "[nltk_data]     /home/aman.satyawali/nltk_data...\n",
      "[nltk_data]   Package brown is already up-to-date!\n",
      "[nltk_data] Downloading package punkt to\n",
      "[nltk_data]     /home/aman.satyawali/nltk_data...\n",
      "[nltk_data]   Package punkt is already up-to-date!\n",
      "[nltk_data] Downloading package wordnet to\n",
      "[nltk_data]     /home/aman.satyawali/nltk_data...\n",
      "[nltk_data]   Package wordnet is already up-to-date!\n",
      "[nltk_data] Downloading package averaged_perceptron_tagger to\n",
      "[nltk_data]     /home/aman.satyawali/nltk_data...\n",
      "[nltk_data]   Package averaged_perceptron_tagger is already up-to-\n",
      "[nltk_data]       date!\n",
      "[nltk_data] Downloading package conll2000 to\n",
      "[nltk_data]     /home/aman.satyawali/nltk_data...\n",
      "[nltk_data]   Package conll2000 is already up-to-date!\n",
      "[nltk_data] Downloading package movie_reviews to\n",
      "[nltk_data]     /home/aman.satyawali/nltk_data...\n",
      "[nltk_data]   Package movie_reviews is already up-to-date!\n",
      "Finished.\n"
     ]
    }
   ],
   "source": [
    "!python -m textblob.download_corpora"
   ]
  },
  {
   "cell_type": "code",
   "execution_count": 3,
   "id": "d75c960f",
   "metadata": {},
   "outputs": [],
   "source": [
    "from textblob import TextBlob"
   ]
  },
  {
   "cell_type": "code",
   "execution_count": 4,
   "id": "68388930",
   "metadata": {},
   "outputs": [],
   "source": [
    "a = TextBlob('I like AI for the works. Getting good at it')"
   ]
  },
  {
   "cell_type": "code",
   "execution_count": 5,
   "id": "bd104bad",
   "metadata": {},
   "outputs": [
    {
     "data": {
      "text/plain": [
       "WordList(['I', 'like', 'AI', 'for', 'the', 'works', 'Getting', 'good', 'at', 'it'])"
      ]
     },
     "execution_count": 5,
     "metadata": {},
     "output_type": "execute_result"
    }
   ],
   "source": [
    "#word tokenization\n",
    "a.words"
   ]
  },
  {
   "cell_type": "code",
   "execution_count": 6,
   "id": "5d3cfc49",
   "metadata": {},
   "outputs": [
    {
     "data": {
      "text/plain": [
       "[Sentence(\"I like AI for the works.\"), Sentence(\"Getting good at it\")]"
      ]
     },
     "execution_count": 6,
     "metadata": {},
     "output_type": "execute_result"
    }
   ],
   "source": [
    "#Sentence tokenization\n",
    "a.sentences"
   ]
  },
  {
   "cell_type": "code",
   "execution_count": 7,
   "id": "f9f3e3be",
   "metadata": {},
   "outputs": [
    {
     "data": {
      "text/plain": [
       "WordList(['ai'])"
      ]
     },
     "execution_count": 7,
     "metadata": {},
     "output_type": "execute_result"
    }
   ],
   "source": [
    "# noun phrase esxtraction\n",
    "a.noun_phrases"
   ]
  },
  {
   "cell_type": "code",
   "execution_count": 8,
   "id": "7e92a602",
   "metadata": {},
   "outputs": [],
   "source": [
    "#word inflection\n",
    "sent = TextBlob('Use 4 spaces per indentation level')"
   ]
  },
  {
   "cell_type": "code",
   "execution_count": 9,
   "id": "678dcfe8",
   "metadata": {},
   "outputs": [
    {
     "data": {
      "text/plain": [
       "WordList(['Use', '4', 'spaces', 'per', 'indentation', 'level'])"
      ]
     },
     "execution_count": 9,
     "metadata": {},
     "output_type": "execute_result"
    }
   ],
   "source": [
    "sent.words"
   ]
  },
  {
   "cell_type": "code",
   "execution_count": 10,
   "id": "9daec391",
   "metadata": {},
   "outputs": [
    {
     "data": {
      "text/plain": [
       "'space'"
      ]
     },
     "execution_count": 10,
     "metadata": {},
     "output_type": "execute_result"
    }
   ],
   "source": [
    "sent.words[2].singularize()"
   ]
  },
  {
   "cell_type": "code",
   "execution_count": 11,
   "id": "ff2ba678",
   "metadata": {},
   "outputs": [
    {
     "data": {
      "text/plain": [
       "'spacess'"
      ]
     },
     "execution_count": 11,
     "metadata": {},
     "output_type": "execute_result"
    }
   ],
   "source": [
    "sent.words[2].pluralize() # hardcoded to just add 's' at the end of the word"
   ]
  },
  {
   "cell_type": "code",
   "execution_count": 12,
   "id": "61ab0fc8",
   "metadata": {},
   "outputs": [],
   "source": [
    "sent = TextBlob('World cup t20 first match will be played betweer Pakistan and India')"
   ]
  },
  {
   "cell_type": "code",
   "execution_count": 13,
   "id": "b47c6ed1",
   "metadata": {},
   "outputs": [
    {
     "data": {
      "text/plain": [
       "[('World', 'NNP'),\n",
       " ('cup', 'NN'),\n",
       " ('t20', 'NN'),\n",
       " ('first', 'JJ'),\n",
       " ('match', 'NN'),\n",
       " ('will', 'MD'),\n",
       " ('be', 'VB'),\n",
       " ('played', 'VBN'),\n",
       " ('betweer', 'NN'),\n",
       " ('Pakistan', 'NNP'),\n",
       " ('and', 'CC'),\n",
       " ('India', 'NNP')]"
      ]
     },
     "execution_count": 13,
     "metadata": {},
     "output_type": "execute_result"
    }
   ],
   "source": [
    "#pos_tagging\n",
    "sent.pos_tags"
   ]
  },
  {
   "cell_type": "code",
   "execution_count": 14,
   "id": "a87c8268",
   "metadata": {},
   "outputs": [
    {
     "data": {
      "text/plain": [
       "'histori'"
      ]
     },
     "execution_count": 14,
     "metadata": {},
     "output_type": "execute_result"
    }
   ],
   "source": [
    "#stemming\n",
    "from textblob import Word\n",
    "\n",
    "q = Word('history')\n",
    "q.stem()"
   ]
  },
  {
   "cell_type": "code",
   "execution_count": 15,
   "id": "d10c62f6",
   "metadata": {},
   "outputs": [
    {
     "data": {
      "text/plain": [
       "'go'"
      ]
     },
     "execution_count": 15,
     "metadata": {},
     "output_type": "execute_result"
    }
   ],
   "source": [
    "#lemmatization\n",
    "q = Word('went')\n",
    "q.lemmatize('v')"
   ]
  },
  {
   "cell_type": "code",
   "execution_count": 16,
   "id": "504e7844",
   "metadata": {},
   "outputs": [
    {
     "data": {
      "text/plain": [
       "['the condition of having been made regular (or more regular)',\n",
       " 'the act of bringing to uniformity; making regular']"
      ]
     },
     "execution_count": 16,
     "metadata": {},
     "output_type": "execute_result"
    }
   ],
   "source": [
    "#definitions\n",
    "Word('regularization').definitions"
   ]
  },
  {
   "cell_type": "code",
   "execution_count": 17,
   "id": "e6663e5d",
   "metadata": {},
   "outputs": [
    {
     "data": {
      "text/plain": [
       "TextBlob(\"An you pronounce Czechoslovakia\")"
      ]
     },
     "execution_count": 17,
     "metadata": {},
     "output_type": "execute_result"
    }
   ],
   "source": [
    "#spelling correction\n",
    "\n",
    "g = TextBlob('Can you pronounce Chzechoslovakia')\n",
    "g.correct()"
   ]
  },
  {
   "cell_type": "code",
   "execution_count": 18,
   "id": "6f75f878",
   "metadata": {},
   "outputs": [
    {
     "data": {
      "text/plain": [
       "[('are', 0.8943089430894309),\n",
       " ('re', 0.04656319290465632),\n",
       " ('grew', 0.04089677260408968),\n",
       " ('grey', 0.009608277900960829),\n",
       " ('pre', 0.003695491500369549),\n",
       " ('grm', 0.0017245627001724563),\n",
       " ('gr', 0.0009854644000985464),\n",
       " ('ore', 0.0007390983000739098),\n",
       " ('grs', 0.0004927322000492732),\n",
       " ('ire', 0.0002463661000246366),\n",
       " ('gee', 0.0002463661000246366),\n",
       " ('gare', 0.0002463661000246366),\n",
       " ('ere', 0.0002463661000246366)]"
      ]
     },
     "execution_count": 18,
     "metadata": {},
     "output_type": "execute_result"
    }
   ],
   "source": [
    "Word('gre').spellcheck()"
   ]
  },
  {
   "cell_type": "code",
   "execution_count": 19,
   "id": "fc50d727",
   "metadata": {},
   "outputs": [
    {
     "name": "stdout",
     "output_type": "stream",
     "text": [
      "defaultdict(<class 'int'>, {'she': 1, 'sells': 1, 'sea': 2, 'shells': 1, 'on': 1, 'the': 1, 'shore': 1})\n",
      "0\n",
      "2\n"
     ]
    }
   ],
   "source": [
    "#word frequency\n",
    "\n",
    "sent = TextBlob('She sells sea shells on the sea shore')\n",
    "print(sent.word_counts)\n",
    "print(sent.word_counts['Sea'])\n",
    "print(sent.words.count('Sea', case_sensitive = False))"
   ]
  },
  {
   "cell_type": "code",
   "execution_count": 23,
   "id": "bcb111c0",
   "metadata": {},
   "outputs": [
    {
     "name": "stdout",
     "output_type": "stream",
     "text": [
      "कुछ नहीं से कुछ भला\n",
      "en\n"
     ]
    }
   ],
   "source": [
    "#Translation and language detection\n",
    "sent = TextBlob('Something is better than nothing')\n",
    "print(sent.translate(to = 'hi'))\n",
    "print(sent.detect_language())"
   ]
  },
  {
   "cell_type": "markdown",
   "id": "c6c2c597",
   "metadata": {},
   "source": [
    "<h3>Text classification system</h3>"
   ]
  },
  {
   "cell_type": "code",
   "execution_count": 26,
   "id": "493a7096",
   "metadata": {},
   "outputs": [],
   "source": [
    "#Loading data and creating a classifier\n",
    "\n",
    "train = [\n",
    "     ('I love this sandwich.', 'pos'),\n",
    "     ('this is an amazing place!', 'pos'),\n",
    "     ('I feel very good about these beers.', 'pos'),\n",
    "     ('this is my best work.', 'pos'),\n",
    "     (\"what an awesome view\", 'pos'),\n",
    "     ('I do not like this restaurant', 'neg'),\n",
    "     ('I am tired of this stuff.', 'neg'),\n",
    "     (\"I can't deal with this\", 'neg'),\n",
    "     ('he is my sworn enemy!', 'neg'),\n",
    "     ('my boss is horrible.', 'neg'),\n",
    "     ('my boss is bad.', 'neg'),\n",
    "    \n",
    "\n",
    "]\n",
    "\n",
    "test = [\n",
    "     ('the beer was good.', 'pos'),\n",
    "     ('I do not enjoy my job', 'neg'),\n",
    "     (\"I ain't feeling dandy today.\", 'neg'),\n",
    "     (\"I feel amazing!\", 'pos'),\n",
    "     ('Gary is a friend of mine.', 'pos'),\n",
    "     (\"I can't believe I'm doing this.\", 'neg')\n",
    "]"
   ]
  },
  {
   "cell_type": "code",
   "execution_count": 29,
   "id": "5ef40794",
   "metadata": {},
   "outputs": [],
   "source": [
    "from textblob.classifiers import NaiveBayesClassifier\n",
    "cl = NaiveBayesClassifier(train)"
   ]
  },
  {
   "cell_type": "code",
   "execution_count": 32,
   "id": "b6aba037",
   "metadata": {},
   "outputs": [
    {
     "data": {
      "text/plain": [
       "0.8333333333333334"
      ]
     },
     "execution_count": 32,
     "metadata": {},
     "output_type": "execute_result"
    }
   ],
   "source": [
    "cl.accuracy(test)"
   ]
  },
  {
   "cell_type": "code",
   "execution_count": 34,
   "id": "08cc5b62",
   "metadata": {},
   "outputs": [
    {
     "data": {
      "text/plain": [
       "'neg'"
      ]
     },
     "execution_count": 34,
     "metadata": {},
     "output_type": "execute_result"
    }
   ],
   "source": [
    "cl.classify('You are horrible')"
   ]
  },
  {
   "cell_type": "code",
   "execution_count": 39,
   "id": "39590c4b",
   "metadata": {},
   "outputs": [
    {
     "data": {
      "text/plain": [
       "'neg'"
      ]
     },
     "execution_count": 39,
     "metadata": {},
     "output_type": "execute_result"
    }
   ],
   "source": [
    "cl.classify('The movie was bad')"
   ]
  },
  {
   "cell_type": "code",
   "execution_count": 41,
   "id": "e5171dd2",
   "metadata": {},
   "outputs": [
    {
     "data": {
      "text/plain": [
       "1.0"
      ]
     },
     "execution_count": 41,
     "metadata": {},
     "output_type": "execute_result"
    }
   ],
   "source": [
    "cl.accuracy(train)"
   ]
  },
  {
   "cell_type": "code",
   "execution_count": 43,
   "id": "c31afa2f",
   "metadata": {},
   "outputs": [
    {
     "data": {
      "text/plain": [
       "True"
      ]
     },
     "execution_count": 43,
     "metadata": {},
     "output_type": "execute_result"
    }
   ],
   "source": [
    "# retraining of the model\n",
    "new_data = [('She is my best friend.', 'pos'),\n",
    "           (\"I'm happy to have a new friend.\", 'pos'),\n",
    "           (\"Stay thirsty, my friend.\", 'pos'),             \n",
    "           (\"He ain't from around here.\", 'neg')]\n",
    "\n",
    "cl.update(new_data)"
   ]
  },
  {
   "cell_type": "code",
   "execution_count": 45,
   "id": "2f62d58f",
   "metadata": {},
   "outputs": [
    {
     "data": {
      "text/plain": [
       "1.0"
      ]
     },
     "execution_count": 45,
     "metadata": {},
     "output_type": "execute_result"
    }
   ],
   "source": [
    "cl.accuracy(test)"
   ]
  },
  {
   "cell_type": "code",
   "execution_count": null,
   "id": "b250bec1",
   "metadata": {},
   "outputs": [],
   "source": []
  }
 ],
 "metadata": {
  "kernelspec": {
   "display_name": "Python 3",
   "language": "python",
   "name": "python3"
  },
  "language_info": {
   "codemirror_mode": {
    "name": "ipython",
    "version": 3
   },
   "file_extension": ".py",
   "mimetype": "text/x-python",
   "name": "python",
   "nbconvert_exporter": "python",
   "pygments_lexer": "ipython3",
   "version": "3.7.10"
  }
 },
 "nbformat": 4,
 "nbformat_minor": 5
}
