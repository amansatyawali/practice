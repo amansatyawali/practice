{
 "cells": [
  {
   "cell_type": "code",
   "execution_count": 2,
   "id": "2974bfb4",
   "metadata": {},
   "outputs": [
    {
     "name": "stdout",
     "output_type": "stream",
     "text": [
      "Requirement already satisfied: spacy in /home/aman.satyawali/anaconda3/lib/python3.7/site-packages (3.1.3)\n",
      "Requirement already satisfied: blis<0.8.0,>=0.4.0 in /home/aman.satyawali/anaconda3/lib/python3.7/site-packages (from spacy) (0.7.4)\n",
      "Requirement already satisfied: preshed<3.1.0,>=3.0.2 in /home/aman.satyawali/anaconda3/lib/python3.7/site-packages (from spacy) (3.0.5)\n",
      "Requirement already satisfied: numpy>=1.15.0 in /home/aman.satyawali/anaconda3/lib/python3.7/site-packages (from spacy) (1.20.1)\n",
      "Requirement already satisfied: setuptools in /home/aman.satyawali/anaconda3/lib/python3.7/site-packages (from spacy) (52.0.0.post20210125)\n",
      "Requirement already satisfied: thinc<8.1.0,>=8.0.9 in /home/aman.satyawali/anaconda3/lib/python3.7/site-packages (from spacy) (8.0.10)\n",
      "Requirement already satisfied: tqdm<5.0.0,>=4.38.0 in /home/aman.satyawali/anaconda3/lib/python3.7/site-packages (from spacy) (4.59.0)\n",
      "Requirement already satisfied: murmurhash<1.1.0,>=0.28.0 in /home/aman.satyawali/anaconda3/lib/python3.7/site-packages (from spacy) (1.0.5)\n",
      "Requirement already satisfied: catalogue<2.1.0,>=2.0.6 in /home/aman.satyawali/anaconda3/lib/python3.7/site-packages (from spacy) (2.0.6)\n",
      "Requirement already satisfied: wasabi<1.1.0,>=0.8.1 in /home/aman.satyawali/anaconda3/lib/python3.7/site-packages (from spacy) (0.8.2)\n",
      "Requirement already satisfied: pathy>=0.3.5 in /home/aman.satyawali/anaconda3/lib/python3.7/site-packages (from spacy) (0.6.0)\n",
      "Requirement already satisfied: requests<3.0.0,>=2.13.0 in /home/aman.satyawali/anaconda3/lib/python3.7/site-packages (from spacy) (2.25.1)\n",
      "Requirement already satisfied: packaging>=20.0 in /home/aman.satyawali/anaconda3/lib/python3.7/site-packages (from spacy) (20.9)\n",
      "Requirement already satisfied: typer<0.5.0,>=0.3.0 in /home/aman.satyawali/anaconda3/lib/python3.7/site-packages (from spacy) (0.4.0)\n",
      "Requirement already satisfied: jinja2 in /home/aman.satyawali/anaconda3/lib/python3.7/site-packages (from spacy) (2.11.3)\n",
      "Requirement already satisfied: typing-extensions<4.0.0.0,>=3.7.4 in /home/aman.satyawali/anaconda3/lib/python3.7/site-packages (from spacy) (3.7.4.3)\n",
      "Requirement already satisfied: pydantic!=1.8,!=1.8.1,<1.9.0,>=1.7.4 in /home/aman.satyawali/anaconda3/lib/python3.7/site-packages (from spacy) (1.8.2)\n",
      "Requirement already satisfied: srsly<3.0.0,>=2.4.1 in /home/aman.satyawali/anaconda3/lib/python3.7/site-packages (from spacy) (2.4.1)\n",
      "Requirement already satisfied: cymem<2.1.0,>=2.0.2 in /home/aman.satyawali/anaconda3/lib/python3.7/site-packages (from spacy) (2.0.5)\n",
      "Requirement already satisfied: spacy-legacy<3.1.0,>=3.0.8 in /home/aman.satyawali/anaconda3/lib/python3.7/site-packages (from spacy) (3.0.8)\n",
      "Requirement already satisfied: zipp>=0.5 in /home/aman.satyawali/.local/lib/python3.7/site-packages (from catalogue<2.1.0,>=2.0.6->spacy) (3.4.0)\n",
      "Requirement already satisfied: pyparsing>=2.0.2 in /home/aman.satyawali/anaconda3/lib/python3.7/site-packages (from packaging>=20.0->spacy) (2.4.7)\n",
      "Requirement already satisfied: smart-open<6.0.0,>=5.0.0 in /home/aman.satyawali/anaconda3/lib/python3.7/site-packages (from pathy>=0.3.5->spacy) (5.2.1)\n",
      "Requirement already satisfied: urllib3<1.27,>=1.21.1 in /home/aman.satyawali/anaconda3/lib/python3.7/site-packages (from requests<3.0.0,>=2.13.0->spacy) (1.26.4)\n",
      "Requirement already satisfied: chardet<5,>=3.0.2 in /home/aman.satyawali/anaconda3/lib/python3.7/site-packages (from requests<3.0.0,>=2.13.0->spacy) (4.0.0)\n",
      "Requirement already satisfied: idna<3,>=2.5 in /home/aman.satyawali/anaconda3/lib/python3.7/site-packages (from requests<3.0.0,>=2.13.0->spacy) (2.10)\n",
      "Requirement already satisfied: certifi>=2017.4.17 in /home/aman.satyawali/anaconda3/lib/python3.7/site-packages (from requests<3.0.0,>=2.13.0->spacy) (2020.12.5)\n",
      "Requirement already satisfied: click<9.0.0,>=7.1.1 in /home/aman.satyawali/anaconda3/lib/python3.7/site-packages (from typer<0.5.0,>=0.3.0->spacy) (7.1.2)\n",
      "Requirement already satisfied: MarkupSafe>=0.23 in /home/aman.satyawali/anaconda3/lib/python3.7/site-packages (from jinja2->spacy) (1.1.1)\n"
     ]
    }
   ],
   "source": [
    "!pip install spacy"
   ]
  },
  {
   "cell_type": "code",
   "execution_count": 4,
   "id": "a4a5402a",
   "metadata": {},
   "outputs": [
    {
     "name": "stdout",
     "output_type": "stream",
     "text": [
      "Collecting en-core-web-sm==3.1.0\n",
      "  Using cached https://github.com/explosion/spacy-models/releases/download/en_core_web_sm-3.1.0/en_core_web_sm-3.1.0-py3-none-any.whl (13.6 MB)\n",
      "Requirement already satisfied: spacy<3.2.0,>=3.1.0 in /home/aman.satyawali/anaconda3/lib/python3.7/site-packages (from en-core-web-sm==3.1.0) (3.1.3)\n",
      "Requirement already satisfied: jinja2 in /home/aman.satyawali/anaconda3/lib/python3.7/site-packages (from spacy<3.2.0,>=3.1.0->en-core-web-sm==3.1.0) (2.11.3)\n",
      "Requirement already satisfied: wasabi<1.1.0,>=0.8.1 in /home/aman.satyawali/anaconda3/lib/python3.7/site-packages (from spacy<3.2.0,>=3.1.0->en-core-web-sm==3.1.0) (0.8.2)\n",
      "Requirement already satisfied: thinc<8.1.0,>=8.0.9 in /home/aman.satyawali/anaconda3/lib/python3.7/site-packages (from spacy<3.2.0,>=3.1.0->en-core-web-sm==3.1.0) (8.0.10)\n",
      "Requirement already satisfied: srsly<3.0.0,>=2.4.1 in /home/aman.satyawali/anaconda3/lib/python3.7/site-packages (from spacy<3.2.0,>=3.1.0->en-core-web-sm==3.1.0) (2.4.1)\n",
      "Requirement already satisfied: murmurhash<1.1.0,>=0.28.0 in /home/aman.satyawali/anaconda3/lib/python3.7/site-packages (from spacy<3.2.0,>=3.1.0->en-core-web-sm==3.1.0) (1.0.5)\n",
      "Requirement already satisfied: setuptools in /home/aman.satyawali/anaconda3/lib/python3.7/site-packages (from spacy<3.2.0,>=3.1.0->en-core-web-sm==3.1.0) (52.0.0.post20210125)\n",
      "Requirement already satisfied: requests<3.0.0,>=2.13.0 in /home/aman.satyawali/anaconda3/lib/python3.7/site-packages (from spacy<3.2.0,>=3.1.0->en-core-web-sm==3.1.0) (2.25.1)\n",
      "Requirement already satisfied: typer<0.5.0,>=0.3.0 in /home/aman.satyawali/anaconda3/lib/python3.7/site-packages (from spacy<3.2.0,>=3.1.0->en-core-web-sm==3.1.0) (0.4.0)\n",
      "Requirement already satisfied: numpy>=1.15.0 in /home/aman.satyawali/anaconda3/lib/python3.7/site-packages (from spacy<3.2.0,>=3.1.0->en-core-web-sm==3.1.0) (1.20.1)\n",
      "Requirement already satisfied: cymem<2.1.0,>=2.0.2 in /home/aman.satyawali/anaconda3/lib/python3.7/site-packages (from spacy<3.2.0,>=3.1.0->en-core-web-sm==3.1.0) (2.0.5)\n",
      "Requirement already satisfied: tqdm<5.0.0,>=4.38.0 in /home/aman.satyawali/anaconda3/lib/python3.7/site-packages (from spacy<3.2.0,>=3.1.0->en-core-web-sm==3.1.0) (4.59.0)\n",
      "Requirement already satisfied: preshed<3.1.0,>=3.0.2 in /home/aman.satyawali/anaconda3/lib/python3.7/site-packages (from spacy<3.2.0,>=3.1.0->en-core-web-sm==3.1.0) (3.0.5)\n",
      "Requirement already satisfied: packaging>=20.0 in /home/aman.satyawali/anaconda3/lib/python3.7/site-packages (from spacy<3.2.0,>=3.1.0->en-core-web-sm==3.1.0) (20.9)\n",
      "Requirement already satisfied: spacy-legacy<3.1.0,>=3.0.8 in /home/aman.satyawali/anaconda3/lib/python3.7/site-packages (from spacy<3.2.0,>=3.1.0->en-core-web-sm==3.1.0) (3.0.8)\n",
      "Requirement already satisfied: pydantic!=1.8,!=1.8.1,<1.9.0,>=1.7.4 in /home/aman.satyawali/anaconda3/lib/python3.7/site-packages (from spacy<3.2.0,>=3.1.0->en-core-web-sm==3.1.0) (1.8.2)\n",
      "Requirement already satisfied: catalogue<2.1.0,>=2.0.6 in /home/aman.satyawali/anaconda3/lib/python3.7/site-packages (from spacy<3.2.0,>=3.1.0->en-core-web-sm==3.1.0) (2.0.6)\n",
      "Requirement already satisfied: pathy>=0.3.5 in /home/aman.satyawali/anaconda3/lib/python3.7/site-packages (from spacy<3.2.0,>=3.1.0->en-core-web-sm==3.1.0) (0.6.0)\n",
      "Requirement already satisfied: typing-extensions<4.0.0.0,>=3.7.4 in /home/aman.satyawali/anaconda3/lib/python3.7/site-packages (from spacy<3.2.0,>=3.1.0->en-core-web-sm==3.1.0) (3.7.4.3)\n",
      "Requirement already satisfied: blis<0.8.0,>=0.4.0 in /home/aman.satyawali/anaconda3/lib/python3.7/site-packages (from spacy<3.2.0,>=3.1.0->en-core-web-sm==3.1.0) (0.7.4)\n",
      "Requirement already satisfied: zipp>=0.5 in /home/aman.satyawali/.local/lib/python3.7/site-packages (from catalogue<2.1.0,>=2.0.6->spacy<3.2.0,>=3.1.0->en-core-web-sm==3.1.0) (3.4.0)\n",
      "Requirement already satisfied: pyparsing>=2.0.2 in /home/aman.satyawali/anaconda3/lib/python3.7/site-packages (from packaging>=20.0->spacy<3.2.0,>=3.1.0->en-core-web-sm==3.1.0) (2.4.7)\n",
      "Requirement already satisfied: smart-open<6.0.0,>=5.0.0 in /home/aman.satyawali/anaconda3/lib/python3.7/site-packages (from pathy>=0.3.5->spacy<3.2.0,>=3.1.0->en-core-web-sm==3.1.0) (5.2.1)\n",
      "Requirement already satisfied: chardet<5,>=3.0.2 in /home/aman.satyawali/anaconda3/lib/python3.7/site-packages (from requests<3.0.0,>=2.13.0->spacy<3.2.0,>=3.1.0->en-core-web-sm==3.1.0) (4.0.0)\n",
      "Requirement already satisfied: idna<3,>=2.5 in /home/aman.satyawali/anaconda3/lib/python3.7/site-packages (from requests<3.0.0,>=2.13.0->spacy<3.2.0,>=3.1.0->en-core-web-sm==3.1.0) (2.10)\n",
      "Requirement already satisfied: certifi>=2017.4.17 in /home/aman.satyawali/anaconda3/lib/python3.7/site-packages (from requests<3.0.0,>=2.13.0->spacy<3.2.0,>=3.1.0->en-core-web-sm==3.1.0) (2020.12.5)\n",
      "Requirement already satisfied: urllib3<1.27,>=1.21.1 in /home/aman.satyawali/anaconda3/lib/python3.7/site-packages (from requests<3.0.0,>=2.13.0->spacy<3.2.0,>=3.1.0->en-core-web-sm==3.1.0) (1.26.4)\n",
      "Requirement already satisfied: click<9.0.0,>=7.1.1 in /home/aman.satyawali/anaconda3/lib/python3.7/site-packages (from typer<0.5.0,>=0.3.0->spacy<3.2.0,>=3.1.0->en-core-web-sm==3.1.0) (7.1.2)\n",
      "Requirement already satisfied: MarkupSafe>=0.23 in /home/aman.satyawali/anaconda3/lib/python3.7/site-packages (from jinja2->spacy<3.2.0,>=3.1.0->en-core-web-sm==3.1.0) (1.1.1)\n",
      "\u001b[38;5;2m✔ Download and installation successful\u001b[0m\n",
      "You can now load the package via spacy.load('en_core_web_sm')\n"
     ]
    }
   ],
   "source": [
    "!python -m spacy download en_core_web_sm"
   ]
  },
  {
   "cell_type": "code",
   "execution_count": 5,
   "id": "ecbd6079",
   "metadata": {},
   "outputs": [],
   "source": [
    "import spacy"
   ]
  },
  {
   "cell_type": "code",
   "execution_count": 8,
   "id": "f08d565a",
   "metadata": {},
   "outputs": [],
   "source": [
    "model = spacy.load('en_core_web_sm')"
   ]
  },
  {
   "cell_type": "code",
   "execution_count": 9,
   "id": "6a57773b",
   "metadata": {},
   "outputs": [],
   "source": [
    "text = \"\"\" The Republican president is being challenged by Democratic \n",
    "Party nominee Joe Biden, who is best known as Barack Obama’s vice-president but has been in \n",
    "US politics since the 1970s.As election day approaches, pollingcompanies will be trying to gauge \n",
    "the mood of the nation by asking voters which candidate they prefer.\"\"\""
   ]
  },
  {
   "cell_type": "code",
   "execution_count": 10,
   "id": "6f04c569",
   "metadata": {},
   "outputs": [],
   "source": [
    "doc = model(text)"
   ]
  },
  {
   "cell_type": "code",
   "execution_count": 12,
   "id": "66cb2adf",
   "metadata": {},
   "outputs": [
    {
     "data": {
      "text/plain": [
       "spacy.tokens.doc.Doc"
      ]
     },
     "execution_count": 12,
     "metadata": {},
     "output_type": "execute_result"
    }
   ],
   "source": [
    "type(doc)"
   ]
  },
  {
   "cell_type": "code",
   "execution_count": 19,
   "id": "0f01962c",
   "metadata": {},
   "outputs": [
    {
     "data": {
      "text/plain": [
       "[ The Republican president is being challenged by Democratic \n",
       " Party nominee Joe Biden, who is best known as Barack Obama’s vice-president but has been in \n",
       " US politics since the 1970s.,\n",
       " As election day approaches, pollingcompanies will be trying to gauge \n",
       " the mood of the nation by asking voters which candidate they prefer.]"
      ]
     },
     "execution_count": 19,
     "metadata": {},
     "output_type": "execute_result"
    }
   ],
   "source": [
    "#Sentence tokenization\n",
    "list(doc.sents)"
   ]
  },
  {
   "cell_type": "code",
   "execution_count": 21,
   "id": "78c9018f",
   "metadata": {},
   "outputs": [
    {
     "name": "stdout",
     "output_type": "stream",
     "text": [
      " \n",
      "The\n",
      "Republican\n",
      "president\n",
      "is\n",
      "being\n",
      "challenged\n",
      "by\n",
      "Democratic\n",
      "\n",
      "\n",
      "Party\n",
      "nominee\n",
      "Joe\n",
      "Biden\n",
      ",\n",
      "who\n",
      "is\n",
      "best\n",
      "known\n",
      "as\n",
      "Barack\n",
      "Obama\n",
      "’s\n",
      "vice\n",
      "-\n",
      "president\n",
      "but\n",
      "has\n",
      "been\n",
      "in\n",
      "\n",
      "\n",
      "US\n",
      "politics\n",
      "since\n",
      "the\n",
      "1970s\n",
      ".\n",
      "As\n",
      "election\n",
      "day\n",
      "approaches\n",
      ",\n",
      "pollingcompanies\n",
      "will\n",
      "be\n",
      "trying\n",
      "to\n",
      "gauge\n",
      "\n",
      "\n",
      "the\n",
      "mood\n",
      "of\n",
      "the\n",
      "nation\n",
      "by\n",
      "asking\n",
      "voters\n",
      "which\n",
      "candidate\n",
      "they\n",
      "prefer\n",
      ".\n"
     ]
    }
   ],
   "source": [
    "#Word tokenization\n",
    "for token in doc :\n",
    "    print(token)"
   ]
  },
  {
   "cell_type": "code",
   "execution_count": 36,
   "id": "93951422",
   "metadata": {},
   "outputs": [],
   "source": [
    "#Stop words\n",
    "stopWords = spacy.lang.en.stop_words.STOP_WORDS"
   ]
  },
  {
   "cell_type": "code",
   "execution_count": 37,
   "id": "35193205",
   "metadata": {},
   "outputs": [
    {
     "name": "stdout",
     "output_type": "stream",
     "text": [
      "{\"'d\", 'myself', 'he', 'another', 'thereafter', 'a', '‘ll', 'moreover', 'any', 'whether', 'make', 'now', 'although', 'take', 'quite', 'if', 'part', 'himself', 'its', \"'m\", 'yourselves', 'move', 'less', 'also', 'regarding', 'thus', 'anywhere', \"'ve\", 'few', 'done', \"'ll\", 'made', 'out', 'our', \"n't\", 'alone', 'themselves', 'afterwards', 'someone', 'or', 'five', 'everyone', 'somehow', 'put', 'there', 'ever', 'those', 'yet', 'top', 'upon', 'every', 'one', 'should', 'about', 'while', 'thence', 'when', 'hereafter', 'wherein', '’re', 'anyhow', 'others', 'amongst', 'beside', 'their', 'eight', 'used', 'two', 'beyond', 'something', 'your', 'will', 'i', 'seeming', 'herein', 'becoming', 'herself', 'do', 'all', 'still', 'within', 'by', 'than', 'through', 'whereupon', 'not', 'least', 'us', 'them', 'see', 'into', 'so', 'as', 'either', 'you', 'me', 'whereby', '’d', 'rather', 'full', 'various', '’s', 'can', 'throughout', 'nothing', 'above', 'against', 'well', '‘d', 'nine', 'does', 'serious', 'other', 'never', 'latterly', 're', 'next', '‘m', 'back', 'after', 'would', 'forty', 'six', 'ten', 'my', 'noone', 'am', 'via', '‘s', 'hers', 'besides', 'some', \"'s\", 'she', 'own', 'sixty', 'twenty', 'amount', 'again', 'yourself', 'whither', 'give', 'itself', 'and', 'became', 'becomes', 'fifteen', 'however', 'once', 'really', 'sometime', 'sometimes', 'n’t', 'using', 'nowhere', 'last', '’m', 'towards', 'n‘t', 'everything', 'during', 'doing', 'the', 'ours', 'have', 'whoever', 'thereupon', 'under', 'unless', 'were', 'may', 'before', 'must', 'fifty', 'yours', 'to', 'among', 'everywhere', 'seemed', 'they', 'beforehand', 'together', 'behind', 'namely', 'seem', 'anything', 'first', 'mine', 'due', 'with', 'off', 'thru', 'such', 'further', 'neither', 'up', 'why', 'mostly', 'has', 'had', 'same', 'only', 'where', 'for', 'below', 'ourselves', '’ve', 'did', 'say', 'until', 'between', 'that', 'him', 'always', 'get', 'we', 'therein', 'in', 'are', 'because', 'just', 'whenever', 'but', 'name', 'none', 'nobody', 'anyway', 'twelve', 'was', 'three', 'be', 'thereby', 'latter', 'it', 'often', 'former', 'seems', 'front', 'wherever', 'much', 'please', 'an', 'though', 'hence', 'almost', 'except', 'go', 'enough', 'around', 'otherwise', 'on', 'being', 'no', 'become', 'else', 'perhaps', 'ca', 'might', 'of', 'hundred', 'many', 'most', 'show', 'what', 'her', 'since', 'his', 'call', 'eleven', 'onto', 'whereas', 'anyone', 'side', 'over', 'per', 'here', 'which', 'how', 'who', 'each', 'these', 'already', 'cannot', 'both', 'elsewhere', 'down', 'is', 'very', 'this', 'could', 'more', 'bottom', 'hereupon', 'whereafter', '‘re', '‘ve', 'hereby', 'somewhere', 'several', \"'re\", 'empty', 'indeed', 'across', 'toward', 'too', 'whence', '’ll', 'without', 'been', 'formerly', 'third', 'whole', 'from', 'four', 'therefore', 'at', 'whose', 'meanwhile', 'then', 'keep', 'even', 'along', 'whom', 'nevertheless', 'nor', 'whatever'}\n"
     ]
    }
   ],
   "source": [
    "print(stopWords)"
   ]
  },
  {
   "cell_type": "code",
   "execution_count": 54,
   "id": "2d02825c",
   "metadata": {},
   "outputs": [],
   "source": [
    "def removeStopWords(input_str) :\n",
    "    outputArray = []\n",
    "    doc = model(input_str)\n",
    "    stopWords = list(spacy.lang.en.stop_words.STOP_WORDS)\n",
    "    for token in doc :\n",
    "        token = str(token)\n",
    "        if token not in stopWords :\n",
    "            outputArray.append(token)\n",
    "    return ' '.join(outputArray)"
   ]
  },
  {
   "cell_type": "code",
   "execution_count": 55,
   "id": "4102d639",
   "metadata": {},
   "outputs": [
    {
     "name": "stdout",
     "output_type": "stream",
     "text": [
      "  The Republican president challenged Democratic \n",
      " Party nominee Joe Biden , best known Barack Obama vice - president \n",
      " US politics 1970s . As election day approaches , pollingcompanies trying gauge \n",
      " mood nation asking voters candidate prefer .\n"
     ]
    }
   ],
   "source": [
    "print(removeStopWords(text))"
   ]
  },
  {
   "cell_type": "code",
   "execution_count": 47,
   "id": "f9b6837d",
   "metadata": {},
   "outputs": [
    {
     "name": "stdout",
     "output_type": "stream",
     "text": [
      "The\n",
      "is\n",
      "being\n",
      "by\n",
      "who\n",
      "is\n",
      "as\n",
      "’s\n",
      "but\n",
      "has\n",
      "been\n",
      "in\n",
      "US\n",
      "since\n",
      "the\n",
      "As\n",
      "will\n",
      "be\n",
      "to\n",
      "the\n",
      "of\n",
      "the\n",
      "by\n",
      "which\n",
      "they\n"
     ]
    }
   ],
   "source": [
    "for token in doc : \n",
    "    if token.is_stop :\n",
    "        print(token)"
   ]
  },
  {
   "cell_type": "code",
   "execution_count": 50,
   "id": "bab23d4e",
   "metadata": {},
   "outputs": [
    {
     "name": "stdout",
     "output_type": "stream",
     "text": [
      ",\n",
      "-\n",
      ".\n",
      ",\n",
      ".\n"
     ]
    }
   ],
   "source": [
    "for token in doc : \n",
    "    if token.is_punct :\n",
    "        print(token)"
   ]
  },
  {
   "cell_type": "code",
   "execution_count": 64,
   "id": "c60ece8f",
   "metadata": {},
   "outputs": [],
   "source": [
    "def cleanText(input_str) :\n",
    "    outputArray = []\n",
    "    doc = model(input_str)\n",
    "    for token in doc :\n",
    "        if not token.is_stop and not token.is_punct :\n",
    "            outputArray.append(str(token))\n",
    "    return ' '.join(outputArray)"
   ]
  },
  {
   "cell_type": "code",
   "execution_count": 67,
   "id": "cbb4c8f0",
   "metadata": {},
   "outputs": [
    {
     "name": "stdout",
     "output_type": "stream",
     "text": [
      "  Republican president challenged Democratic \n",
      " Party nominee Joe Biden best known Barack Obama vice president \n",
      " politics 1970s election day approaches pollingcompanies trying gauge \n",
      " mood nation asking voters candidate prefer\n"
     ]
    }
   ],
   "source": [
    "print(cleanText(text))"
   ]
  },
  {
   "cell_type": "code",
   "execution_count": 71,
   "id": "a41b1228",
   "metadata": {},
   "outputs": [
    {
     "name": "stdout",
     "output_type": "stream",
     "text": [
      "  ---------->  \n",
      "The ----------> the\n",
      "Republican ----------> republican\n",
      "president ----------> president\n",
      "is ----------> be\n",
      "being ----------> be\n",
      "challenged ----------> challenge\n",
      "by ----------> by\n",
      "Democratic ----------> Democratic\n",
      "\n",
      " ----------> \n",
      "\n",
      "Party ----------> Party\n",
      "nominee ----------> nominee\n",
      "Joe ----------> Joe\n",
      "Biden ----------> Biden\n",
      ", ----------> ,\n",
      "who ----------> who\n",
      "is ----------> be\n",
      "best ----------> well\n",
      "known ----------> know\n",
      "as ----------> as\n",
      "Barack ----------> Barack\n",
      "Obama ----------> Obama\n",
      "’s ----------> ’s\n",
      "vice ----------> vice\n",
      "- ----------> -\n",
      "president ----------> president\n",
      "but ----------> but\n",
      "has ----------> have\n",
      "been ----------> be\n",
      "in ----------> in\n",
      "\n",
      " ----------> \n",
      "\n",
      "US ----------> US\n",
      "politics ----------> politic\n",
      "since ----------> since\n",
      "the ----------> the\n",
      "1970s ----------> 1970\n",
      ". ----------> .\n",
      "As ----------> as\n",
      "election ----------> election\n",
      "day ----------> day\n",
      "approaches ----------> approach\n",
      ", ----------> ,\n",
      "pollingcompanies ----------> pollingcompanie\n",
      "will ----------> will\n",
      "be ----------> be\n",
      "trying ----------> try\n",
      "to ----------> to\n",
      "gauge ----------> gauge\n",
      "\n",
      " ----------> \n",
      "\n",
      "the ----------> the\n",
      "mood ----------> mood\n",
      "of ----------> of\n",
      "the ----------> the\n",
      "nation ----------> nation\n",
      "by ----------> by\n",
      "asking ----------> ask\n",
      "voters ----------> voter\n",
      "which ----------> which\n",
      "candidate ----------> candidate\n",
      "they ----------> they\n",
      "prefer ----------> prefer\n",
      ". ----------> .\n"
     ]
    }
   ],
   "source": [
    "for token in doc : \n",
    "    print(token, '---------->', token.lemma_)"
   ]
  },
  {
   "cell_type": "code",
   "execution_count": 72,
   "id": "a564f27d",
   "metadata": {},
   "outputs": [
    {
     "name": "stdout",
     "output_type": "stream",
     "text": [
      "  ------------> _SP ------------> SPACE ------------> whitespace\n",
      "The ------------> DT ------------> DET ------------> determiner\n",
      "Republican ------------> JJ ------------> ADJ ------------> adjective (English), other noun-modifier (Chinese)\n",
      "president ------------> NN ------------> NOUN ------------> noun, singular or mass\n",
      "is ------------> VBZ ------------> AUX ------------> verb, 3rd person singular present\n",
      "being ------------> VBG ------------> AUX ------------> verb, gerund or present participle\n",
      "challenged ------------> VBN ------------> VERB ------------> verb, past participle\n",
      "by ------------> IN ------------> ADP ------------> conjunction, subordinating or preposition\n",
      "Democratic ------------> NNP ------------> PROPN ------------> noun, proper singular\n",
      "\n",
      " ------------> _SP ------------> SPACE ------------> whitespace\n",
      "Party ------------> NNP ------------> PROPN ------------> noun, proper singular\n",
      "nominee ------------> NN ------------> NOUN ------------> noun, singular or mass\n",
      "Joe ------------> NNP ------------> PROPN ------------> noun, proper singular\n",
      "Biden ------------> NNP ------------> PROPN ------------> noun, proper singular\n",
      ", ------------> , ------------> PUNCT ------------> punctuation mark, comma\n",
      "who ------------> WP ------------> PRON ------------> wh-pronoun, personal\n",
      "is ------------> VBZ ------------> AUX ------------> verb, 3rd person singular present\n",
      "best ------------> RBS ------------> ADV ------------> adverb, superlative\n",
      "known ------------> VBN ------------> VERB ------------> verb, past participle\n",
      "as ------------> IN ------------> ADP ------------> conjunction, subordinating or preposition\n",
      "Barack ------------> NNP ------------> PROPN ------------> noun, proper singular\n",
      "Obama ------------> NNP ------------> PROPN ------------> noun, proper singular\n",
      "’s ------------> POS ------------> PART ------------> possessive ending\n",
      "vice ------------> NN ------------> NOUN ------------> noun, singular or mass\n",
      "- ------------> NN ------------> NOUN ------------> noun, singular or mass\n",
      "president ------------> NN ------------> NOUN ------------> noun, singular or mass\n",
      "but ------------> CC ------------> CCONJ ------------> conjunction, coordinating\n",
      "has ------------> VBZ ------------> AUX ------------> verb, 3rd person singular present\n",
      "been ------------> VBN ------------> VERB ------------> verb, past participle\n",
      "in ------------> IN ------------> ADP ------------> conjunction, subordinating or preposition\n",
      "\n",
      " ------------> _SP ------------> SPACE ------------> whitespace\n",
      "US ------------> NNP ------------> PROPN ------------> noun, proper singular\n",
      "politics ------------> NNS ------------> NOUN ------------> noun, plural\n",
      "since ------------> IN ------------> SCONJ ------------> conjunction, subordinating or preposition\n",
      "the ------------> DT ------------> DET ------------> determiner\n",
      "1970s ------------> NNS ------------> NOUN ------------> noun, plural\n",
      ". ------------> . ------------> PUNCT ------------> punctuation mark, sentence closer\n",
      "As ------------> IN ------------> ADP ------------> conjunction, subordinating or preposition\n",
      "election ------------> NN ------------> NOUN ------------> noun, singular or mass\n",
      "day ------------> NN ------------> NOUN ------------> noun, singular or mass\n",
      "approaches ------------> VBZ ------------> VERB ------------> verb, 3rd person singular present\n",
      ", ------------> , ------------> PUNCT ------------> punctuation mark, comma\n",
      "pollingcompanies ------------> NNS ------------> NOUN ------------> noun, plural\n",
      "will ------------> MD ------------> AUX ------------> verb, modal auxiliary\n",
      "be ------------> VB ------------> AUX ------------> verb, base form\n",
      "trying ------------> VBG ------------> VERB ------------> verb, gerund or present participle\n",
      "to ------------> TO ------------> PART ------------> infinitival \"to\"\n",
      "gauge ------------> VB ------------> VERB ------------> verb, base form\n",
      "\n",
      " ------------> _SP ------------> SPACE ------------> whitespace\n",
      "the ------------> DT ------------> DET ------------> determiner\n",
      "mood ------------> NN ------------> NOUN ------------> noun, singular or mass\n",
      "of ------------> IN ------------> ADP ------------> conjunction, subordinating or preposition\n",
      "the ------------> DT ------------> DET ------------> determiner\n",
      "nation ------------> NN ------------> NOUN ------------> noun, singular or mass\n",
      "by ------------> IN ------------> ADP ------------> conjunction, subordinating or preposition\n",
      "asking ------------> VBG ------------> VERB ------------> verb, gerund or present participle\n",
      "voters ------------> NNS ------------> NOUN ------------> noun, plural\n",
      "which ------------> WDT ------------> DET ------------> wh-determiner\n",
      "candidate ------------> NN ------------> NOUN ------------> noun, singular or mass\n",
      "they ------------> PRP ------------> PRON ------------> pronoun, personal\n",
      "prefer ------------> VBP ------------> VERB ------------> verb, non-3rd person singular present\n",
      ". ------------> . ------------> PUNCT ------------> punctuation mark, sentence closer\n"
     ]
    }
   ],
   "source": [
    "for token in doc :\n",
    "    print(token, '------------>', token.tag_, '------------>', token.pos_, '------------>', spacy.explain(token.tag_))"
   ]
  }
 ],
 "metadata": {
  "kernelspec": {
   "display_name": "Python 3",
   "language": "python",
   "name": "python3"
  },
  "language_info": {
   "codemirror_mode": {
    "name": "ipython",
    "version": 3
   },
   "file_extension": ".py",
   "mimetype": "text/x-python",
   "name": "python",
   "nbconvert_exporter": "python",
   "pygments_lexer": "ipython3",
   "version": "3.7.10"
  }
 },
 "nbformat": 4,
 "nbformat_minor": 5
}
